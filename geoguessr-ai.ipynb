{
 "cells": [
  {
   "cell_type": "markdown",
   "metadata": {},
   "source": [
    "# GeoGuessr Artificial Intelligence Model 🌏🌎🌍"
   ]
  },
  {
   "cell_type": "code",
   "execution_count": 15,
   "metadata": {},
   "outputs": [],
   "source": [
    "# imports\n",
    "import numpy as np\n",
    "import cv2 as cv \n",
    "import os\n",
    "import matplotlib.pyplot as plt\n",
    "import pandas as pd\n",
    "from shapely.geometry import Point, Polygon\n",
    "import folium\n",
    "import random\n",
    "from sklearn.model_selection import train_test_split\n",
    "from sklearn.dummy import DummyClassifier\n",
    "from sklearn.metrics import accuracy_score, classification_report, confusion_matrix\n",
    "\n",
    "# globals\n",
    "dataset_rel_path = \"./data/geotagged_kaggle/streetviews/\"\n",
    "DATASET_ROOT_PATH = os.path.abspath(dataset_rel_path)\n",
    "map_center = [45, 15]"
   ]
  },
  {
   "cell_type": "markdown",
   "metadata": {},
   "source": [
    "## Data Loading 📷"
   ]
  },
  {
   "cell_type": "markdown",
   "metadata": {},
   "source": [
    "The used dataset is based on Google Streetview captures tagged with the latitude and longitude (geoTagged). The images are organized into folders based on the country they are taken from (the name of the folder is the country code).\n",
    "\n",
    "This model works with the countries from Europe (from the [UN's point of view](https://www.worldometers.info/geography/how-many-countries-in-europe/)). Excluded Russia as most of its surface is not in Europe"
   ]
  },
  {
   "cell_type": "code",
   "execution_count": 3,
   "metadata": {},
   "outputs": [],
   "source": [
    "europe_countries_code_list = [\"AL\", \"AD\", \"AT\", \"BY\", \"BE\", \"BA\", \"BG\", \"HR\", \"CZ\", \"DK\", \"EE\", \"FI\", \"FR\", \n",
    "                              \"DE\", \"GR\", \"VA\", \"HU\", \"IS\", \"IE\", \"IT\", \"LV\", \"LI\", \"LT\", \"LU\", \"MT\", \"MD\", \n",
    "                              \"MC\", \"ME\", \"NL\", \"MK\", \"NO\", \"PL\", \"PT\", \"RO\", \"SM\", \"RS\", \"SK\", \"SI\", \"ES\", \n",
    "                              \"SE\", \"CH\", \"UA\", \"GB\"]"
   ]
  },
  {
   "cell_type": "markdown",
   "metadata": {},
   "source": [
    "### Data Insights\n",
    "Let's take a look at the number of images in each folder."
   ]
  },
  {
   "cell_type": "code",
   "execution_count": 47,
   "metadata": {},
   "outputs": [],
   "source": [
    "def count_files_in_dir(dir_path):\n",
    "    return len(os.listdir(dir_path))\n",
    "\n",
    "def display_number_of_images_in_each_folder():\n",
    "    country_nr_images = {}\n",
    "    for country_folder in os.listdir(DATASET_ROOT_PATH):\n",
    "        if (country_folder in europe_countries_code_list):\n",
    "            country_nr_images[country_folder] = len(os.listdir(os.path.join(DATASET_ROOT_PATH, country_folder)))\n",
    "\n",
    "    plt.bar(country_nr_images.keys(), country_nr_images.values())\n",
    "    plt.xlabel(\"Country\")\n",
    "    plt.xticks(rotation=90)\n",
    "    plt.ylabel(\"Nr of Images\")\n",
    "    plt.show()\n",
    "\n",
    "    print(\"European countries that are not in the dataset: \")\n",
    "    print([elem for elem in list(country_nr_images.keys()) + europe_countries_code_list if elem not in country_nr_images.keys()])"
   ]
  },
  {
   "cell_type": "code",
   "execution_count": 48,
   "metadata": {},
   "outputs": [
    {
     "data": {
      "image/png": "[encoded data removed]",
      "text/plain": [
       "<Figure size 640x480 with 1 Axes>"
      ]
     },
     "metadata": {},
     "output_type": "display_data"
    },
    {
     "name": "stdout",
     "output_type": "stream",
     "text": [
      "European countries that are not in the dataset: \n",
      "['AL', 'GR', 'VA', 'HU', 'IS', 'LV', 'LI', 'LU', 'MC', 'SM', 'SI']\n"
     ]
    }
   ],
   "source": [
    "display_number_of_images_in_each_folder()"
   ]
  },
  {
   "cell_type": "markdown",
   "metadata": {},
   "source": [
    "Let's also plot the report of number of images over the total country surface to observe any imbalances."
   ]
  },
  {
   "cell_type": "code",
   "execution_count": null,
   "metadata": {},
   "outputs": [],
   "source": [
    "european_country_surface_areas = {\n",
    "    'AL': 28748,  # Albania\n",
    "    'AD': 468,    # Andorra\n",
    "    'AT': 83879,  # Austria\n",
    "    'BY': 207600, # Belarus\n",
    "    'BE': 30528,  # Belgium\n",
    "    'BA': 51197,  # Bosnia and Herzegovina\n",
    "    'BG': 110879, # Bulgaria\n",
    "    'HR': 56594,  # Croatia\n",
    "    'CY': 9251,   # Cyprus\n",
    "    'CZ': 78865,  # Czech Republic\n",
    "    'DK': 42924,  # Denmark\n",
    "    'EE': 45227,  # Estonia\n",
    "    'FI': 338424, # Finland\n",
    "    'FR': 551695, # France\n",
    "    'DE': 357022, # Germany\n",
    "    'GR': 131957, # Greece\n",
    "    'HU': 93030,  # Hungary\n",
    "    'IS': 103000, # Iceland\n",
    "    'IE': 70273,  # Ireland\n",
    "    'IT': 301340, # Italy\n",
    "    'LV': 64589,  # Latvia\n",
    "    'LI': 160,    # Liechtenstein\n",
    "    'LT': 65300,  # Lithuania\n",
    "    'LU': 2586,   # Luxembourg\n",
    "    'MK': 25713,  # North Macedonia\n",
    "    'MT': 316,    # Malta\n",
    "    'MD': 33843,  # Moldova\n",
    "    'MC': 2,      # Monaco\n",
    "    'ME': 13812,  # Montenegro\n",
    "    'NL': 41543,  # Netherlands\n",
    "    'NO': 1487290,# Norway\n",
    "    'PL': 312696, # Poland\n",
    "    'PT': 92212,  # Portugal\n",
    "    'RO': 238397, # Romania\n",
    "    'RU': 17098242,# Russia\n",
    "    'SM': 61,     # San Marino\n",
    "    'RS': 77474,  # Serbia\n",
    "    'SK': 49037,  # Slovakia\n",
    "    'SI': 20273,  # Slovenia\n",
    "    'ES': 505992, # Spain\n",
    "    'SE': 450295, # Sweden\n",
    "    'CH': 41284,  # Switzerland\n",
    "    'UA': 603500, # Ukraine\n",
    "    'GB': 243610, # United Kingdom\n",
    "    'VA': 0.44,   # Vatican City\n",
    "}"
   ]
  },
  {
   "cell_type": "code",
   "execution_count": 51,
   "metadata": {},
   "outputs": [],
   "source": [
    "def show_density_of_images_per_country():\n",
    "    filtered_european_country_surface_areas = {key: european_country_surface_areas[key] for key in country_nr_images.keys()}\n",
    "\n",
    "    for country_code in country_nr_images.keys():\n",
    "        filtered_european_country_surface_areas[country_code] = country_nr_images[country_code] / filtered_european_country_surface_areas[country_code] * 100\n",
    "\n",
    "    plt.bar(country_nr_images.keys(), filtered_european_country_surface_areas.values())\n",
    "    plt.xlabel(\"Country\")\n",
    "    plt.xticks(rotation=90)\n",
    "    plt.ylabel(\"Nr of Images\")\n",
    "    plt.show()"
   ]
  },
  {
   "cell_type": "code",
   "execution_count": 52,
   "metadata": {},
   "outputs": [
    {
     "data": {
      "image/png": "[encoded data removed]",
      "text/plain": [
       "<Figure size 640x480 with 1 Axes>"
      ]
     },
     "metadata": {},
     "output_type": "display_data"
    }
   ],
   "source": [
    "show_density_of_images_per_country()"
   ]
  },
  {
   "cell_type": "markdown",
   "metadata": {},
   "source": [
    "**Important cell to run!**\n",
    "\n",
    "We save the image data into a pandas dataframe `all_countries_df` containing the path to the image, the latitude and the longitude."
   ]
  },
  {
   "cell_type": "code",
   "execution_count": 4,
   "metadata": {},
   "outputs": [
    {
     "data": {
      "text/html": [
       "<div>\n",
       "<style scoped>\n",
       "    .dataframe tbody tr th:only-of-type {\n",
       "        vertical-align: middle;\n",
       "    }\n",
       "\n",
       "    .dataframe tbody tr th {\n",
       "        vertical-align: top;\n",
       "    }\n",
       "\n",
       "    .dataframe thead th {\n",
       "        text-align: right;\n",
       "    }\n",
       "</style>\n",
       "<table border=\"1\" class=\"dataframe\">\n",
       "  <thead>\n",
       "    <tr style=\"text-align: right;\">\n",
       "      <th></th>\n",
       "      <th>path</th>\n",
       "      <th>long</th>\n",
       "      <th>lat</th>\n",
       "    </tr>\n",
       "  </thead>\n",
       "  <tbody>\n",
       "    <tr>\n",
       "      <th>0</th>\n",
       "      <td>c:\\Facultate\\An_4\\An_4_Sem_1\\Pattern_Recogniti...</td>\n",
       "      <td>1.87154</td>\n",
       "      <td>42.02136</td>\n",
       "    </tr>\n",
       "    <tr>\n",
       "      <th>1</th>\n",
       "      <td>c:\\Facultate\\An_4\\An_4_Sem_1\\Pattern_Recogniti...</td>\n",
       "      <td>1.88966</td>\n",
       "      <td>42.02381</td>\n",
       "    </tr>\n",
       "    <tr>\n",
       "      <th>2</th>\n",
       "      <td>c:\\Facultate\\An_4\\An_4_Sem_1\\Pattern_Recogniti...</td>\n",
       "      <td>1.88094</td>\n",
       "      <td>42.02883</td>\n",
       "    </tr>\n",
       "    <tr>\n",
       "      <th>3</th>\n",
       "      <td>c:\\Facultate\\An_4\\An_4_Sem_1\\Pattern_Recogniti...</td>\n",
       "      <td>1.30027</td>\n",
       "      <td>42.04606</td>\n",
       "    </tr>\n",
       "    <tr>\n",
       "      <th>4</th>\n",
       "      <td>c:\\Facultate\\An_4\\An_4_Sem_1\\Pattern_Recogniti...</td>\n",
       "      <td>1.84825</td>\n",
       "      <td>42.07719</td>\n",
       "    </tr>\n",
       "  </tbody>\n",
       "</table>\n",
       "</div>"
      ],
      "text/plain": [
       "                                                path     long       lat\n",
       "0  c:\\Facultate\\An_4\\An_4_Sem_1\\Pattern_Recogniti...  1.87154  42.02136\n",
       "1  c:\\Facultate\\An_4\\An_4_Sem_1\\Pattern_Recogniti...  1.88966  42.02381\n",
       "2  c:\\Facultate\\An_4\\An_4_Sem_1\\Pattern_Recogniti...  1.88094  42.02883\n",
       "3  c:\\Facultate\\An_4\\An_4_Sem_1\\Pattern_Recogniti...  1.30027  42.04606\n",
       "4  c:\\Facultate\\An_4\\An_4_Sem_1\\Pattern_Recogniti...  1.84825  42.07719"
      ]
     },
     "execution_count": 4,
     "metadata": {},
     "output_type": "execute_result"
    }
   ],
   "source": [
    "coordinates_data = {\n",
    "    'path': [],\n",
    "    'long': [],\n",
    "    'lat': []\n",
    "}\n",
    "\n",
    "for country_folder in os.listdir(DATASET_ROOT_PATH):\n",
    "    if (country_folder in europe_countries_code_list):\n",
    "        curr_path = os.path.join(DATASET_ROOT_PATH, country_folder)\n",
    "        for filename in os.listdir(curr_path):\n",
    "            curr_lat, curr_long = filename[: -4].split(',')\n",
    "            coordinates_data['path'].append(os.path.join(curr_path, filename))\n",
    "            coordinates_data['lat'].append(float(curr_lat))\n",
    "            coordinates_data['long'].append(float(curr_long))\n",
    "\n",
    "all_countries_df = pd.DataFrame(coordinates_data)\n",
    "all_countries_df.head()"
   ]
  },
  {
   "cell_type": "markdown",
   "metadata": {},
   "source": [
    "Let's visualize the geographic distribution of images (folium)"
   ]
  },
  {
   "cell_type": "code",
   "execution_count": 56,
   "metadata": {},
   "outputs": [],
   "source": [
    "def create_map_with_markers(path):\n",
    "    my_map = None\n",
    "    map_center = [45, 15]\n",
    "    my_map = folium.Map(location=map_center, zoom_start=5)\n",
    "\n",
    "    # Add markers for each coordinate\n",
    "    for coordinates in list(zip(all_countries_df.lat, all_countries_df.long)):\n",
    "        folium.CircleMarker(location=(coordinates[0], coordinates[1]), radius=1).add_to(my_map)\n",
    "\n",
    "    # Save the map as an HTML file\n",
    "    my_map.save(path)\n",
    "    return my_map"
   ]
  },
  {
   "cell_type": "code",
   "execution_count": 58,
   "metadata": {},
   "outputs": [],
   "source": [
    "map = create_map_with_markers(\"./maps/map_with_markers.html\")"
   ]
  },
  {
   "cell_type": "markdown",
   "metadata": {},
   "source": [
    "### What kind of data is needed in the model?\n",
    "#### Data preprocessing\n",
    "Preprocessing is strongly tied to the choice of the model used (CNN / Vision transformer / Deep neural networks), therefore it may be adapted later in the implementation\n",
    "\n",
    "Let us first prepare the input data for being fed into a Convolutional Neural Network. This type of network expects a 4D Tensor. For a colored image, this tensor would have the shape\n",
    "```\n",
    "[BATCH_SIZE, IMAGE_HEIGHT, IMAGE_WIDTH, NUMBER_OF_CHANNELS]\n",
    "```\n",
    "\n",
    "The images will be preprocessed as follows:\n",
    "- resize to the STANDARD_SIZE in this case 256 pixels for an edge (square shape)\n",
    "- normalize the image"
   ]
  },
  {
   "cell_type": "code",
   "execution_count": 6,
   "metadata": {},
   "outputs": [],
   "source": [
    "# OpenCV understanding on how images are processed\n",
    "example_img = cv.imread(os.path.join(dataset_rel_path, \"CH/45.72656,6.52431.jpg\"))\n",
    "print(type(example_img))\n",
    "print(np.shape(example_img))\n",
    "\n",
    "# resize\n",
    "resized = cv.resize(example_img, (STANDARD_IMAGE_SIZE, STANDARD_IMAGE_SIZE), interpolation=cv.INTER_NEAREST)\n",
    "print(np.shape(resized))\n",
    "print(resized[0][0]) # print the color channels B G R\n",
    "\n",
    "cv.imshow(\"original\", example_img)\n",
    "cv.imshow(\"resized\", resized)\n",
    "cv.waitKey(0)"
   ]
  },
  {
   "cell_type": "markdown",
   "metadata": {},
   "source": [
    "#### Image Labeling, creating dataset, splitting into test, train, validation sets\n",
    "We need to get from the current state of the data to the data suitable for training, validation and testing.\n",
    "- *current* state: jpg images aranged into folders and labeled with their latitude and longitude values \n",
    "- *desired* state: individual examples consisting of numpy arrays of the required shape, populated with the RGB channels values, and labeled with an integer corresponding to the area on the map where they belong.\n",
    "\n",
    "Data Structures for the Images:\n",
    "- x_train, x_validate, x_test: arrays containing the pixel data of the images (will be fed into the neural network)\n",
    "- y_train, y_validate, y_test: arrays containing the label of each example.\n",
    "\n",
    "> Note: The label and the example need to be at the same index in the data structures that hold them. Therefore, they need to be shuffled together\n",
    "\n",
    "##### Obtaining the output labels - (Method 1) **Variable-sized rectangles in a grid** ⏹\n",
    "In this method the map of europe will be divided into square shapes, therefore the label of an image is the index of the square into the ordered list of squares. The size of the square is determined by the number of training examples in that square. Therefore if it exceeds the `THRESHOLD` it will be split into 4 (its size is reduced). Obtaining these squares is a subproblem on its own and will be solved in the following part."
   ]
  },
  {
   "cell_type": "code",
   "execution_count": 7,
   "metadata": {},
   "outputs": [],
   "source": [
    "# Helper functions\n",
    "INITIAL_SQUARE_EDGE_SIZE = 10\n",
    "POINTS_IN_SQUARE_TH = 300\n",
    "\n",
    "all_countries_labeled = []\n",
    "\n",
    "def isInBbox(point_coords, bottom_left, size):\n",
    "    if (point_coords[0] > bottom_left[0] and point_coords[0] < bottom_left[0] + size):\n",
    "        if (point_coords[1] > bottom_left[1] and point_coords[1] < bottom_left[1] + size):\n",
    "            return True\n",
    "    return False\n",
    "\n",
    "def updateLabelForElement(countries_labeled, new_point):\n",
    "    for index, element in enumerate(countries_labeled):\n",
    "        if element['path'] == new_point['path']:\n",
    "            countries_labeled[index]['label'] = new_point['label']\n",
    "            break\n",
    "    return countries_labeled\n",
    "\n",
    "def getSquaresFromArea(countries_labeled, bottom_left, size, points_df, len_squares):\n",
    "    squares_list = []\n",
    "    squares_list_len = 0\n",
    "\n",
    "    bottom_left_x = bottom_left[0]\n",
    "    while bottom_left_x < (bottom_left[0] + 2 * size):\n",
    "        bottom_left_y = bottom_left[1]\n",
    "        while bottom_left_y < (bottom_left[1] + 2 * size):\n",
    "            count_points = 0\n",
    "            curr_points_df = []    \n",
    "            for index, point in all_countries_df.iterrows():\n",
    "                if isInBbox((point['long'], point['lat']), (bottom_left_x, bottom_left_y), size):\n",
    "                    count_points += 1\n",
    "                    curr_points_df.append(point)\n",
    "                    new_point = {\n",
    "                        'path': point['path'],\n",
    "                        'label': len_squares + squares_list_len\n",
    "                    }\n",
    "                    countries_labeled = updateLabelForElement(countries_labeled, new_point)\n",
    "\n",
    "            if count_points >= POINTS_IN_SQUARE_TH:\n",
    "                # break up the square even more\n",
    "                countries_labeled, squares_list_from_area = (getSquaresFromArea(countries_labeled, (bottom_left_x, bottom_left_y), size / 2, points_df, len_squares + squares_list_len))\n",
    "                squares_list_len += len(squares_list_from_area)\n",
    "                squares_list += squares_list_from_area\n",
    "\n",
    "            elif count_points > 0:\n",
    "                squares_list.append((bottom_left_x, bottom_left_y, size))\n",
    "                squares_list_len += 1\n",
    "            bottom_left_y += size\n",
    "        bottom_left_x += size\n",
    "    return countries_labeled, squares_list"
   ]
  },
  {
   "cell_type": "code",
   "execution_count": null,
   "metadata": {},
   "outputs": [],
   "source": [
    "europe_bbox = {\n",
    "    'lat_min': 36.03,\n",
    "    'lat_max': 71.13,\n",
    "    'long_min': -10.72,\n",
    "    'long_max': 41.31\n",
    "}\n",
    "\n",
    "squares = []\n",
    "squares_len = 0\n",
    "\n",
    "bottom_left_x = europe_bbox['long_min']\n",
    "while(bottom_left_x < europe_bbox['long_max']):\n",
    "    bottom_left_y = europe_bbox['lat_min']\n",
    "\n",
    "    while (bottom_left_y < europe_bbox['lat_max']):\n",
    "        count_points = 0\n",
    "        curr_points_df = []\n",
    "        \n",
    "        for index, point in all_countries_df.iterrows():\n",
    "            if isInBbox((point['long'], point['lat']), (bottom_left_x, bottom_left_y), INITIAL_SQUARE_EDGE_SIZE):\n",
    "                curr_points_df.append(point)\n",
    "                count_points += 1\n",
    "                point['label'] = squares_len\n",
    "                all_countries_labeled.append(point)\n",
    "\n",
    "        if count_points >= POINTS_IN_SQUARE_TH:\n",
    "            # break the square even more\n",
    "            all_countries_labeled, squares_in_area = getSquaresFromArea(all_countries_labeled, (bottom_left_x, bottom_left_y), INITIAL_SQUARE_EDGE_SIZE / 2, pd.DataFrame(curr_points_df), squares_len)\n",
    "            squares_len += len(squares_in_area)\n",
    "            squares += squares_in_area\n",
    "\n",
    "        elif (count_points > 0):\n",
    "            squares.append((bottom_left_x, bottom_left_y, INITIAL_SQUARE_EDGE_SIZE))\n",
    "            squares_len += 1\n",
    "        \n",
    "        bottom_left_y += INITIAL_SQUARE_EDGE_SIZE\n",
    "    \n",
    "    bottom_left_x += INITIAL_SQUARE_EDGE_SIZE\n",
    "       \n",
    "labeled_examples_df = pd.DataFrame(all_countries_labeled) # {path to image, label}"
   ]
  },
  {
   "cell_type": "code",
   "execution_count": null,
   "metadata": {},
   "outputs": [],
   "source": [
    "print(labeled_examples_df.head())"
   ]
  },
  {
   "cell_type": "markdown",
   "metadata": {},
   "source": [
    "Display the map with the grid (using folium)"
   ]
  },
  {
   "cell_type": "code",
   "execution_count": 12,
   "metadata": {},
   "outputs": [],
   "source": [
    "my_map = folium.Map(location=map_center, zoom_start=5)\n",
    "\n",
    "for index, square in enumerate(squares):\n",
    "    folium.Rectangle(\n",
    "        bounds=[[square[1], square[0]], [square[1] + square[2], square[0] + square[2]]], # long lat (y x)\n",
    "        fill=False,\n",
    "        color='orange',\n",
    "        fill_color='orange',\n",
    "        fill_opacity=0.1,\n",
    "        popup=f'{index}'\n",
    "    ).add_to(my_map)\n",
    "\n",
    "# Add markers for each coordinate\n",
    "for coordinates in list(zip(labeled_examples_df.lat, labeled_examples_df.long, labeled_examples_df.label)):\n",
    "    folium.CircleMarker(location=(coordinates[0], coordinates[1]), radius=2, popup=coordinates[2]).add_to(my_map)\n",
    "\n",
    "\n",
    "my_map.save('./maps/map_w_rectangular_grid.html') # Remark: squares appear as rectangles due to map projection"
   ]
  },
  {
   "cell_type": "markdown",
   "metadata": {},
   "source": [
    "##### Obtaining the output labels - (Method 2) **K clusters - using K-means clustering**"
   ]
  },
  {
   "cell_type": "code",
   "execution_count": 5,
   "metadata": {},
   "outputs": [],
   "source": [
    "# Euclidean distance\n",
    "def distance(pos_from, pos_to):\n",
    "    return np.sqrt((pos_from[0] - pos_to[0]) ** 2 + (pos_from[1] - pos_to[1]) ** 2)    \n",
    "\n",
    "# K means clustering algorithm - specific for our dataset\n",
    "def kMeansClustering(k, countries_df, max_iterations, initial_centers=None):\n",
    "    if initial_centers is not None:\n",
    "        centers = initial_centers.copy()\n",
    "    else:\n",
    "        centers = countries_df.sample(n=k)\n",
    "        centers.reset_index(inplace=True, drop=True)\n",
    "    \n",
    "    membership_function = np.arange(len(countries_df))\n",
    "    \n",
    "    for iteration in range(max_iterations):\n",
    "        # save previous membership function\n",
    "        membership_prv = np.copy(membership_function)\n",
    "        # compute new membership function\n",
    "        for index, point in countries_df.iterrows():\n",
    "            min_distance = distance((point['long'], point['lat']), (centers.iloc[0]['long'], centers.iloc[0]['lat']))\n",
    "            membership_function[index] = 0\n",
    "            for index_center, center in centers.iterrows():\n",
    "                curr_distance = distance((point['long'], point['lat']), (center['long'], center['lat']))\n",
    "                if curr_distance < min_distance:\n",
    "                    min_distance = curr_distance\n",
    "                    membership_function[index] = index_center\n",
    "        # compute new centers\n",
    "        clusters_count = np.zeros(k)\n",
    "        for index, point in countries_df.iterrows():\n",
    "            cluster = membership_function[index]\n",
    "            clusters_count[cluster] += 1\n",
    "            centers.iloc[cluster]['long'] = centers.iloc[cluster]['long'] + point['long']\n",
    "            centers.iloc[cluster]['lat'] = centers.iloc[cluster]['lat'] + point['lat']\n",
    "        # normalize centers\n",
    "        for index, center in centers.iterrows():\n",
    "            centers.iloc[index]['long'] /= clusters_count[index]\n",
    "            centers.iloc[index]['lat'] /= clusters_count[index]\n",
    "        # stopping condition\n",
    "        if np.array_equal(membership_function, membership_prv):\n",
    "            break\n",
    "\n",
    "    return membership_function, centers                          \n",
    "    "
   ]
  },
  {
   "cell_type": "code",
   "execution_count": null,
   "metadata": {},
   "outputs": [],
   "source": [
    "membership, centers = kMeansClustering(10, all_countries_df, 1000)"
   ]
  },
  {
   "cell_type": "code",
   "execution_count": 26,
   "metadata": {},
   "outputs": [
    {
     "ename": "NameError",
     "evalue": "name 'centers' is not defined",
     "output_type": "error",
     "traceback": [
      "\u001b[1;31m---------------------------------------------------------------------------\u001b[0m",
      "\u001b[1;31mNameError\u001b[0m                                 Traceback (most recent call last)",
      "Cell \u001b[1;32mIn[26], line 7\u001b[0m\n\u001b[0;32m      4\u001b[0m rand_colors \u001b[38;5;241m=\u001b[39m []\n\u001b[0;32m      5\u001b[0m available_colors \u001b[38;5;241m=\u001b[39m [\u001b[38;5;124m'\u001b[39m\u001b[38;5;124mblue\u001b[39m\u001b[38;5;124m'\u001b[39m, \u001b[38;5;124m'\u001b[39m\u001b[38;5;124mgreen\u001b[39m\u001b[38;5;124m'\u001b[39m, \u001b[38;5;124m'\u001b[39m\u001b[38;5;124mpurple\u001b[39m\u001b[38;5;124m'\u001b[39m, \u001b[38;5;124m'\u001b[39m\u001b[38;5;124morange\u001b[39m\u001b[38;5;124m'\u001b[39m, \u001b[38;5;124m'\u001b[39m\u001b[38;5;124mdarkblue\u001b[39m\u001b[38;5;124m'\u001b[39m, \u001b[38;5;124m'\u001b[39m\u001b[38;5;124mdarkgreen\u001b[39m\u001b[38;5;124m'\u001b[39m, \u001b[38;5;124m'\u001b[39m\u001b[38;5;124mlightgreen\u001b[39m\u001b[38;5;124m'\u001b[39m, \u001b[38;5;124m'\u001b[39m\u001b[38;5;124mpink\u001b[39m\u001b[38;5;124m'\u001b[39m, \u001b[38;5;124m'\u001b[39m\u001b[38;5;124mblack\u001b[39m\u001b[38;5;124m'\u001b[39m, \u001b[38;5;124m'\u001b[39m\u001b[38;5;124mdarkgrey\u001b[39m\u001b[38;5;124m'\u001b[39m]\n\u001b[1;32m----> 7\u001b[0m \u001b[38;5;28;01mfor\u001b[39;00m i \u001b[38;5;129;01min\u001b[39;00m \u001b[38;5;28mrange\u001b[39m(\u001b[38;5;28mlen\u001b[39m(\u001b[43mcenters\u001b[49m)):\n\u001b[0;32m      8\u001b[0m     rand_color \u001b[38;5;241m=\u001b[39m random\u001b[38;5;241m.\u001b[39mchoice(available_colors)\n\u001b[0;32m      9\u001b[0m     rand_colors\u001b[38;5;241m.\u001b[39mappend(rand_color)\n",
      "\u001b[1;31mNameError\u001b[0m: name 'centers' is not defined"
     ]
    }
   ],
   "source": [
    "map_center = [45, 15]\n",
    "my_map = folium.Map(location=map_center, zoom_start=5)\n",
    "\n",
    "rand_colors = []\n",
    "available_colors = ['blue', 'green', 'purple', 'orange', 'darkblue', 'darkgreen', 'lightgreen', 'pink', 'black', 'darkgrey']\n",
    "\n",
    "for i in range(len(centers)):\n",
    "    rand_color = random.choice(available_colors)\n",
    "    rand_colors.append(rand_color)\n",
    "    available_colors.remove(rand_color)\n",
    "\n",
    "# add all points colored with random colors w.r.t. their cluster\n",
    "for index, coordinates in enumerate(list(zip(all_countries_df.lat, all_countries_df.long))):\n",
    "    folium.CircleMarker(location=(coordinates[0], coordinates[1]), radius=2, popup=index, color = rand_colors[membership[index]]).add_to(my_map)\n",
    "\n",
    "for index, center in centers.iterrows():\n",
    "    # colored with red\n",
    "    folium.CircleMarker(location=(center['lat'], center['long']), radius=2, popup='center', color = 'red').add_to(my_map)\n",
    "\n",
    "my_map.save('./maps/map_w_k_clusters.html')"
   ]
  },
  {
   "cell_type": "markdown",
   "metadata": {},
   "source": [
    "> Remark: this is not the desired result (would not make sense from the geographical point of view). Another way to label the samples is to perform just the initialization step of the k_means clustering algorithm having\n",
    "some centers chosen manually (based on the distribution of the input data and on the geographical characteristics of Europe)."
   ]
  },
  {
   "cell_type": "markdown",
   "metadata": {},
   "source": [
    "##### Obtaining the output labels - (Method 3) 👌🏽**Hand-picked cluster centers & 1 iteration of k-means**"
   ]
  },
  {
   "cell_type": "code",
   "execution_count": 6,
   "metadata": {},
   "outputs": [],
   "source": [
    "initial_centers = pd.DataFrame({\n",
    "    'long': np.empty(6),\n",
    "    'lat': np.empty(6)\n",
    "})\n",
    "\n",
    "initial_centers.iloc[0]['long'] = -1.27 # Oxford\n",
    "initial_centers.iloc[0]['lat'] = 51.75\n",
    "\n",
    "initial_centers.iloc[1]['long'] = -3.72 # Madrid\n",
    "initial_centers.iloc[1]['lat'] = 40.39\n",
    "\n",
    "# Zadar (Croatia)\n",
    "initial_centers.iloc[2]['long'] = 15.22\n",
    "initial_centers.iloc[2]['lat'] = 44.12\n",
    "\n",
    "initial_centers.iloc[3]['long'] = 30.98 # Gomel (Belarus)\n",
    "initial_centers.iloc[3]['lat'] = 52.43\n",
    "\n",
    "# Liberec (Czech Republic)\n",
    "initial_centers.iloc[4]['long'] = 15.06\n",
    "initial_centers.iloc[4]['lat'] = 50.77\n",
    "\n",
    "# vasterviks kommun (Sweden)\n",
    "initial_centers.iloc[5]['long'] = 16.64\n",
    "initial_centers.iloc[5]['lat'] = 57.76\n",
    "\n",
    "my_map = folium.Map(location=map_center, zoom_start=5)\n",
    "for index, center in initial_centers.iterrows():\n",
    "    folium.CircleMarker(location=(center['lat'], center['long']), radius=2, color = 'red').add_to(my_map)\n",
    "\n",
    "my_map.save('./maps/map_w_handpicked_centers.html')"
   ]
  },
  {
   "cell_type": "code",
   "execution_count": 7,
   "metadata": {},
   "outputs": [],
   "source": [
    "membership, centers = kMeansClustering(6, all_countries_df, 1, initial_centers)"
   ]
  },
  {
   "cell_type": "code",
   "execution_count": 32,
   "metadata": {},
   "outputs": [],
   "source": [
    "map_center = [45, 15]\n",
    "my_map = folium.Map(location=map_center, zoom_start=5)\n",
    "\n",
    "rand_colors = []\n",
    "available_colors = ['blue', 'green', 'purple', 'orange', 'darkblue', 'darkgreen', 'lightgreen', 'pink', 'black']\n",
    "\n",
    "for i in range(len(centers)):\n",
    "    rand_color = random.choice(available_colors)\n",
    "    rand_colors.append(rand_color)\n",
    "    available_colors.remove(rand_color)\n",
    "\n",
    "# add all points colored with random colors w.r.t. their cluster\n",
    "for index, coordinates in enumerate(list(zip(all_countries_df.lat, all_countries_df.long))):\n",
    "    folium.CircleMarker(location=(coordinates[0], coordinates[1]), radius=2, popup=membership[index], color = rand_colors[membership[index]]).add_to(my_map)\n",
    "\n",
    "for index, center in initial_centers.iterrows():\n",
    "    # colored with red\n",
    "    folium.CircleMarker(location=(center['lat'], center['long']), radius=2, popup='center', color = 'red').add_to(my_map)\n",
    "\n",
    "my_map.save('./maps/map_w_cluster_handpicked_centers.html')"
   ]
  },
  {
   "cell_type": "markdown",
   "metadata": {},
   "source": [
    "By visualizing all three methods we notice that the best option from an intuitive perspective is the last one. Therefore, despite some of its disadvantages we take it into account. \n",
    "\n",
    "Some possible improvements for the dataset labeling are\n",
    "* forcing points that are close together (in the visible aglomerations on the map) to belong to the same cluster. (how to choose the cluster they belong to though?)\n",
    "* adding some more labels in the crowded areas (e.g UK & Ireland different from Benelux & France)"
   ]
  },
  {
   "cell_type": "markdown",
   "metadata": {},
   "source": [
    "There actually exists a in tensorflow method called `image_dataset_from_directory` which creates a data set from images placed in a folder structure such that images in the same class are in the same folder. Experimentally this has been proven as a much more efficient (can't be compared) than creating a CSV with all data (its size goes up to a few GB depending on the image size).\n",
    "\n",
    "The function is a great option as it also shuffles and splits the data into train/validation partitions, transforms the class to one-hot format, and splits the dataset into batches, leveraging parallelism and memory usage efficiency.\n",
    "\n",
    "Therefore, the next cells which create numpy arrays saved in csv can and should be skipped. The commented code is left here in case one would like to load the images from csv."
   ]
  },
  {
   "cell_type": "code",
   "execution_count": 9,
   "metadata": {},
   "outputs": [],
   "source": [
    "STANDARD_IMAGE_SIZE = 224\n",
    "# Building the labeled dataset\n",
    "x_all = np.empty((len(all_countries_df), STANDARD_IMAGE_SIZE, STANDARD_IMAGE_SIZE, 3))\n",
    "y_all = np.empty((len(all_countries_df)))\n",
    "\n",
    "for index, point in all_countries_df.iterrows():\n",
    "    image = cv.imread(point['path'])\n",
    "    image = cv.resize(image, (STANDARD_IMAGE_SIZE, STANDARD_IMAGE_SIZE), interpolation=cv.INTER_NEAREST)\n",
    "    x_all[index] = image\n",
    "    y_all[index] = membership[index]\n",
    "\n",
    "# # save the data to csv\n",
    "# x_df = pd.DataFrame(x_all.reshape(len(all_countries_df), -1))\n",
    "# y_df = pd.DataFrame(y_all.reshape(len(all_countries_df), -1))\n",
    "# x_df = x_df.astype('int32')\n",
    "# y_df = y_df.astype('int32')\n",
    "# # y_df.to_csv('./data/y_all.csv', index=False)\n",
    "# x_df.to_csv('./data/x_64_all.csv', index=False)"
   ]
  },
  {
   "cell_type": "markdown",
   "metadata": {},
   "source": [
    "Placing images in directories corresponding to their class (the more efficient option). Also split them into test and training directories right from the beginning"
   ]
  },
  {
   "cell_type": "code",
   "execution_count": 80,
   "metadata": {},
   "outputs": [],
   "source": [
    "STANDARD_IMAGE_SIZE = 224\n",
    "\n",
    "os.makedirs(f'./data/images_{STANDARD_IMAGE_SIZE}_all', exist_ok=True)\n",
    "for i in range(6):\n",
    "    os.makedirs(f'./data/images_{STANDARD_IMAGE_SIZE}_all/{i}',exist_ok=True)\n",
    "\n",
    "paths = []\n",
    "labels = []\n",
    "\n",
    "for index, point in all_countries_df.iterrows():\n",
    "    image_path = point['path']\n",
    "    paths.append(image_path)\n",
    "    labels.append(int(membership[index]))\n",
    "\n",
    "train_photos, test_photos, train_labels, test_labels = train_test_split(paths, labels, test_size=0.1, random_state=42, stratify=labels)\n",
    "\n",
    "train_directory = f'./data/{STANDARD_IMAGE_SIZE}/train'\n",
    "test_directory = f'./data/{STANDARD_IMAGE_SIZE}/test'\n",
    "\n",
    "os.makedirs(train_directory, exist_ok=True)\n",
    "for i in range(6):\n",
    "    os.makedirs(os.path.join(train_directory, f'{i}'), exist_ok=True)\n",
    "os.makedirs(test_directory, exist_ok=True)\n",
    "for i in range(6):\n",
    "    os.makedirs(os.path.join(test_directory, f'{i}'), exist_ok=True)\n",
    "\n",
    "count = 0\n",
    "for path, label in zip(train_photos, train_labels):\n",
    "    image = cv.imread(path)\n",
    "    image = cv.resize(image, (STANDARD_IMAGE_SIZE, STANDARD_IMAGE_SIZE), interpolation=cv.INTER_NEAREST)\n",
    "    final_path =  os.path.join(train_directory, f'{label}/{count}.jpg')\n",
    "    cv.imwrite(final_path, image)\n",
    "    count += 1\n",
    "\n",
    "count = 0\n",
    "for path, label in zip(test_photos, test_labels):\n",
    "    image = cv.imread(path)\n",
    "    image = cv.resize(image, (STANDARD_IMAGE_SIZE, STANDARD_IMAGE_SIZE), interpolation=cv.INTER_NEAREST)\n",
    "    final_path =  os.path.join(test_directory, f'{label}/{count}.jpg')\n",
    "    cv.imwrite(final_path, image)\n",
    "    count += 1"
   ]
  },
  {
   "cell_type": "code",
   "execution_count": 81,
   "metadata": {},
   "outputs": [
    {
     "name": "stdout",
     "output_type": "stream",
     "text": [
      "Number of images in train/0: 1759\n",
      "Number of images in test/0: 195\n",
      "Number of images in train/1: 923\n",
      "Number of images in test/1: 103\n",
      "Number of images in train/2: 904\n",
      "Number of images in test/2: 100\n",
      "Number of images in train/3: 366\n",
      "Number of images in test/3: 41\n",
      "Number of images in train/4: 1228\n",
      "Number of images in test/4: 137\n",
      "Number of images in train/5: 615\n",
      "Number of images in test/5: 68\n",
      "6439\n"
     ]
    }
   ],
   "source": [
    "# verify all images were placed in folders STANDARD_SIZE/train or test/class/image.jpg sum up all images and compare to len of df with for loops\n",
    "sum = 0\n",
    "for i in range(6):\n",
    "    sum += len(os.listdir(os.path.join(train_directory, f\"{i}\"))) +len(os.listdir(os.path.join(test_directory, f\"{i}\")))\n",
    "    print(f'Number of images in train/{i}: {len(os.listdir(os.path.join(train_directory, f\"{i}\")))}')\n",
    "    print(f'Number of images in test/{i}: {len(os.listdir(os.path.join(test_directory, f\"{i}\")))}')\n",
    "print(sum)\n"
   ]
  },
  {
   "cell_type": "markdown",
   "metadata": {},
   "source": [
    "### Shuffling and splitting into Test, Validation, and Training sets"
   ]
  },
  {
   "cell_type": "markdown",
   "metadata": {},
   "source": [
    "We need to divide the dataset into Test, Validation and Training set. We choose the percentages:\n",
    "* 80% training\n",
    "* 10% validation\n",
    "* 10% test\n",
    "\n",
    "For shuffling the data set in a way that ensures all labels are well represented we can take advantage of the `sklearn` method `train_test_split`\n",
    "\n",
    "> This should be run in Google Colab (or similar), as it takes a while on the local machine"
   ]
  },
  {
   "cell_type": "markdown",
   "metadata": {},
   "source": [
    "## Training the Neural Networks\n",
    "We will train and test multiple network architectures and observe their behavior in out classification problem. Moreover, as the required computational resources are significant we will use various image sizes, and leverage transfer learning (using pre-trained models that are fine-tuned on our data)."
   ]
  },
  {
   "cell_type": "code",
   "execution_count": 4,
   "metadata": {},
   "outputs": [
    {
     "name": "stderr",
     "output_type": "stream",
     "text": [
      "c:\\Downloaded_Apps\\Anaconda\\envs\\tf-gpu\\lib\\site-packages\\tensorflow\\python\\framework\\dtypes.py:585: FutureWarning: In the future `np.object` will be defined as the corresponding NumPy scalar.\n",
      "  np.object,\n"
     ]
    },
    {
     "ename": "AttributeError",
     "evalue": "module 'numpy' has no attribute 'object'.\n`np.object` was a deprecated alias for the builtin `object`. To avoid this error in existing code, use `object` by itself. Doing this will not modify any behavior and is safe. \nThe aliases was originally deprecated in NumPy 1.20; for more details and guidance see the original release note at:\n    https://numpy.org/devdocs/release/1.20.0-notes.html#deprecations",
     "output_type": "error",
     "traceback": [
      "\u001b[1;31m---------------------------------------------------------------------------\u001b[0m",
      "\u001b[1;31mAttributeError\u001b[0m                            Traceback (most recent call last)",
      "Cell \u001b[1;32mIn[4], line 4\u001b[0m\n\u001b[0;32m      1\u001b[0m \u001b[38;5;66;03m# import numpy as np\u001b[39;00m\n\u001b[0;32m      2\u001b[0m \u001b[38;5;66;03m# import pandas as pd\u001b[39;00m\n\u001b[0;32m      3\u001b[0m \u001b[38;5;28;01mfrom\u001b[39;00m \u001b[38;5;21;01msklearn\u001b[39;00m\u001b[38;5;21;01m.\u001b[39;00m\u001b[38;5;21;01mmodel_selection\u001b[39;00m \u001b[38;5;28;01mimport\u001b[39;00m train_test_split\n\u001b[1;32m----> 4\u001b[0m \u001b[38;5;28;01mfrom\u001b[39;00m \u001b[38;5;21;01mkeras\u001b[39;00m\u001b[38;5;21;01m.\u001b[39;00m\u001b[38;5;21;01mmodels\u001b[39;00m \u001b[38;5;28;01mimport\u001b[39;00m Sequential\n\u001b[0;32m      5\u001b[0m \u001b[38;5;28;01mfrom\u001b[39;00m \u001b[38;5;21;01mkeras\u001b[39;00m\u001b[38;5;21;01m.\u001b[39;00m\u001b[38;5;21;01mlayers\u001b[39;00m \u001b[38;5;28;01mimport\u001b[39;00m Conv2D, Flatten, Dense, MaxPooling2D, Input, Dropout, Lambda, Rescaling, BatchNormalization\n\u001b[0;32m      6\u001b[0m \u001b[38;5;28;01mfrom\u001b[39;00m \u001b[38;5;21;01mkeras\u001b[39;00m\u001b[38;5;21;01m.\u001b[39;00m\u001b[38;5;21;01mlayers\u001b[39;00m \u001b[38;5;28;01mimport\u001b[39;00m RandomFlip, RandomCrop, RandomZoom, RandomRotation, RandomTranslation, RandomBrightness\n",
      "File \u001b[1;32mc:\\Downloaded_Apps\\Anaconda\\envs\\tf-gpu\\lib\\site-packages\\keras\\__init__.py:21\u001b[0m\n\u001b[0;32m     15\u001b[0m \u001b[38;5;124;03m\"\"\"Implementation of the Keras API, the high-level API of TensorFlow.\u001b[39;00m\n\u001b[0;32m     16\u001b[0m \n\u001b[0;32m     17\u001b[0m \u001b[38;5;124;03mDetailed documentation and user guides are available at\u001b[39;00m\n\u001b[0;32m     18\u001b[0m \u001b[38;5;124;03m[keras.io](https://keras.io).\u001b[39;00m\n\u001b[0;32m     19\u001b[0m \u001b[38;5;124;03m\"\"\"\u001b[39;00m\n\u001b[0;32m     20\u001b[0m \u001b[38;5;66;03m# pylint: disable=unused-import\u001b[39;00m\n\u001b[1;32m---> 21\u001b[0m \u001b[38;5;28;01mfrom\u001b[39;00m \u001b[38;5;21;01mtensorflow\u001b[39;00m\u001b[38;5;21;01m.\u001b[39;00m\u001b[38;5;21;01mpython\u001b[39;00m \u001b[38;5;28;01mimport\u001b[39;00m tf2\n\u001b[0;32m     22\u001b[0m \u001b[38;5;28;01mfrom\u001b[39;00m \u001b[38;5;21;01mkeras\u001b[39;00m \u001b[38;5;28;01mimport\u001b[39;00m distribute\n\u001b[0;32m     24\u001b[0m \u001b[38;5;66;03m# See b/110718070#comment18 for more details about this import.\u001b[39;00m\n",
      "File \u001b[1;32mc:\\Downloaded_Apps\\Anaconda\\envs\\tf-gpu\\lib\\site-packages\\tensorflow\\__init__.py:41\u001b[0m\n\u001b[0;32m     38\u001b[0m \u001b[38;5;28;01mimport\u001b[39;00m \u001b[38;5;21;01msix\u001b[39;00m \u001b[38;5;28;01mas\u001b[39;00m \u001b[38;5;21;01m_six\u001b[39;00m\n\u001b[0;32m     39\u001b[0m \u001b[38;5;28;01mimport\u001b[39;00m \u001b[38;5;21;01msys\u001b[39;00m \u001b[38;5;28;01mas\u001b[39;00m \u001b[38;5;21;01m_sys\u001b[39;00m\n\u001b[1;32m---> 41\u001b[0m \u001b[38;5;28;01mfrom\u001b[39;00m \u001b[38;5;21;01mtensorflow\u001b[39;00m\u001b[38;5;21;01m.\u001b[39;00m\u001b[38;5;21;01mpython\u001b[39;00m\u001b[38;5;21;01m.\u001b[39;00m\u001b[38;5;21;01mtools\u001b[39;00m \u001b[38;5;28;01mimport\u001b[39;00m module_util \u001b[38;5;28;01mas\u001b[39;00m _module_util\n\u001b[0;32m     42\u001b[0m \u001b[38;5;28;01mfrom\u001b[39;00m \u001b[38;5;21;01mtensorflow\u001b[39;00m\u001b[38;5;21;01m.\u001b[39;00m\u001b[38;5;21;01mpython\u001b[39;00m\u001b[38;5;21;01m.\u001b[39;00m\u001b[38;5;21;01mutil\u001b[39;00m\u001b[38;5;21;01m.\u001b[39;00m\u001b[38;5;21;01mlazy_loader\u001b[39;00m \u001b[38;5;28;01mimport\u001b[39;00m LazyLoader \u001b[38;5;28;01mas\u001b[39;00m _LazyLoader\n\u001b[0;32m     44\u001b[0m \u001b[38;5;66;03m# Make sure code inside the TensorFlow codebase can use tf2.enabled() at import.\u001b[39;00m\n",
      "File \u001b[1;32mc:\\Downloaded_Apps\\Anaconda\\envs\\tf-gpu\\lib\\site-packages\\tensorflow\\python\\__init__.py:46\u001b[0m\n\u001b[0;32m     41\u001b[0m \u001b[38;5;28;01mfrom\u001b[39;00m \u001b[38;5;21;01mtensorflow\u001b[39;00m\u001b[38;5;21;01m.\u001b[39;00m\u001b[38;5;21;01mpython\u001b[39;00m \u001b[38;5;28;01mimport\u001b[39;00m pywrap_tensorflow \u001b[38;5;28;01mas\u001b[39;00m _pywrap_tensorflow\n\u001b[0;32m     43\u001b[0m \u001b[38;5;66;03m# pylint: enable=wildcard-import\u001b[39;00m\n\u001b[0;32m     44\u001b[0m \n\u001b[0;32m     45\u001b[0m \u001b[38;5;66;03m# Bring in subpackages.\u001b[39;00m\n\u001b[1;32m---> 46\u001b[0m \u001b[38;5;28;01mfrom\u001b[39;00m \u001b[38;5;21;01mtensorflow\u001b[39;00m\u001b[38;5;21;01m.\u001b[39;00m\u001b[38;5;21;01mpython\u001b[39;00m \u001b[38;5;28;01mimport\u001b[39;00m data\n\u001b[0;32m     47\u001b[0m \u001b[38;5;28;01mfrom\u001b[39;00m \u001b[38;5;21;01mtensorflow\u001b[39;00m\u001b[38;5;21;01m.\u001b[39;00m\u001b[38;5;21;01mpython\u001b[39;00m \u001b[38;5;28;01mimport\u001b[39;00m distribute\n\u001b[0;32m     48\u001b[0m \u001b[38;5;66;03m# from tensorflow.python import keras\u001b[39;00m\n",
      "File \u001b[1;32mc:\\Downloaded_Apps\\Anaconda\\envs\\tf-gpu\\lib\\site-packages\\tensorflow\\python\\data\\__init__.py:25\u001b[0m\n\u001b[0;32m     22\u001b[0m \u001b[38;5;28;01mfrom\u001b[39;00m \u001b[38;5;21;01m__future__\u001b[39;00m \u001b[38;5;28;01mimport\u001b[39;00m print_function\n\u001b[0;32m     24\u001b[0m \u001b[38;5;66;03m# pylint: disable=unused-import\u001b[39;00m\n\u001b[1;32m---> 25\u001b[0m \u001b[38;5;28;01mfrom\u001b[39;00m \u001b[38;5;21;01mtensorflow\u001b[39;00m\u001b[38;5;21;01m.\u001b[39;00m\u001b[38;5;21;01mpython\u001b[39;00m\u001b[38;5;21;01m.\u001b[39;00m\u001b[38;5;21;01mdata\u001b[39;00m \u001b[38;5;28;01mimport\u001b[39;00m experimental\n\u001b[0;32m     26\u001b[0m \u001b[38;5;28;01mfrom\u001b[39;00m \u001b[38;5;21;01mtensorflow\u001b[39;00m\u001b[38;5;21;01m.\u001b[39;00m\u001b[38;5;21;01mpython\u001b[39;00m\u001b[38;5;21;01m.\u001b[39;00m\u001b[38;5;21;01mdata\u001b[39;00m\u001b[38;5;21;01m.\u001b[39;00m\u001b[38;5;21;01mops\u001b[39;00m\u001b[38;5;21;01m.\u001b[39;00m\u001b[38;5;21;01mdataset_ops\u001b[39;00m \u001b[38;5;28;01mimport\u001b[39;00m AUTOTUNE\n\u001b[0;32m     27\u001b[0m \u001b[38;5;28;01mfrom\u001b[39;00m \u001b[38;5;21;01mtensorflow\u001b[39;00m\u001b[38;5;21;01m.\u001b[39;00m\u001b[38;5;21;01mpython\u001b[39;00m\u001b[38;5;21;01m.\u001b[39;00m\u001b[38;5;21;01mdata\u001b[39;00m\u001b[38;5;21;01m.\u001b[39;00m\u001b[38;5;21;01mops\u001b[39;00m\u001b[38;5;21;01m.\u001b[39;00m\u001b[38;5;21;01mdataset_ops\u001b[39;00m \u001b[38;5;28;01mimport\u001b[39;00m Dataset\n",
      "File \u001b[1;32mc:\\Downloaded_Apps\\Anaconda\\envs\\tf-gpu\\lib\\site-packages\\tensorflow\\python\\data\\experimental\\__init__.py:97\u001b[0m\n\u001b[0;32m     94\u001b[0m \u001b[38;5;28;01mfrom\u001b[39;00m \u001b[38;5;21;01m__future__\u001b[39;00m \u001b[38;5;28;01mimport\u001b[39;00m print_function\n\u001b[0;32m     96\u001b[0m \u001b[38;5;66;03m# pylint: disable=unused-import\u001b[39;00m\n\u001b[1;32m---> 97\u001b[0m \u001b[38;5;28;01mfrom\u001b[39;00m \u001b[38;5;21;01mtensorflow\u001b[39;00m\u001b[38;5;21;01m.\u001b[39;00m\u001b[38;5;21;01mpython\u001b[39;00m\u001b[38;5;21;01m.\u001b[39;00m\u001b[38;5;21;01mdata\u001b[39;00m\u001b[38;5;21;01m.\u001b[39;00m\u001b[38;5;21;01mexperimental\u001b[39;00m \u001b[38;5;28;01mimport\u001b[39;00m service\n\u001b[0;32m     98\u001b[0m \u001b[38;5;28;01mfrom\u001b[39;00m \u001b[38;5;21;01mtensorflow\u001b[39;00m\u001b[38;5;21;01m.\u001b[39;00m\u001b[38;5;21;01mpython\u001b[39;00m\u001b[38;5;21;01m.\u001b[39;00m\u001b[38;5;21;01mdata\u001b[39;00m\u001b[38;5;21;01m.\u001b[39;00m\u001b[38;5;21;01mexperimental\u001b[39;00m\u001b[38;5;21;01m.\u001b[39;00m\u001b[38;5;21;01mops\u001b[39;00m\u001b[38;5;21;01m.\u001b[39;00m\u001b[38;5;21;01mbatching\u001b[39;00m \u001b[38;5;28;01mimport\u001b[39;00m dense_to_ragged_batch\n\u001b[0;32m     99\u001b[0m \u001b[38;5;28;01mfrom\u001b[39;00m \u001b[38;5;21;01mtensorflow\u001b[39;00m\u001b[38;5;21;01m.\u001b[39;00m\u001b[38;5;21;01mpython\u001b[39;00m\u001b[38;5;21;01m.\u001b[39;00m\u001b[38;5;21;01mdata\u001b[39;00m\u001b[38;5;21;01m.\u001b[39;00m\u001b[38;5;21;01mexperimental\u001b[39;00m\u001b[38;5;21;01m.\u001b[39;00m\u001b[38;5;21;01mops\u001b[39;00m\u001b[38;5;21;01m.\u001b[39;00m\u001b[38;5;21;01mbatching\u001b[39;00m \u001b[38;5;28;01mimport\u001b[39;00m dense_to_sparse_batch\n",
      "File \u001b[1;32mc:\\Downloaded_Apps\\Anaconda\\envs\\tf-gpu\\lib\\site-packages\\tensorflow\\python\\data\\experimental\\service\\__init__.py:353\u001b[0m\n\u001b[0;32m    350\u001b[0m \u001b[38;5;28;01mfrom\u001b[39;00m \u001b[38;5;21;01m__future__\u001b[39;00m \u001b[38;5;28;01mimport\u001b[39;00m division\n\u001b[0;32m    351\u001b[0m \u001b[38;5;28;01mfrom\u001b[39;00m \u001b[38;5;21;01m__future__\u001b[39;00m \u001b[38;5;28;01mimport\u001b[39;00m print_function\n\u001b[1;32m--> 353\u001b[0m \u001b[38;5;28;01mfrom\u001b[39;00m \u001b[38;5;21;01mtensorflow\u001b[39;00m\u001b[38;5;21;01m.\u001b[39;00m\u001b[38;5;21;01mpython\u001b[39;00m\u001b[38;5;21;01m.\u001b[39;00m\u001b[38;5;21;01mdata\u001b[39;00m\u001b[38;5;21;01m.\u001b[39;00m\u001b[38;5;21;01mexperimental\u001b[39;00m\u001b[38;5;21;01m.\u001b[39;00m\u001b[38;5;21;01mops\u001b[39;00m\u001b[38;5;21;01m.\u001b[39;00m\u001b[38;5;21;01mdata_service_ops\u001b[39;00m \u001b[38;5;28;01mimport\u001b[39;00m distribute\n\u001b[0;32m    354\u001b[0m \u001b[38;5;28;01mfrom\u001b[39;00m \u001b[38;5;21;01mtensorflow\u001b[39;00m\u001b[38;5;21;01m.\u001b[39;00m\u001b[38;5;21;01mpython\u001b[39;00m\u001b[38;5;21;01m.\u001b[39;00m\u001b[38;5;21;01mdata\u001b[39;00m\u001b[38;5;21;01m.\u001b[39;00m\u001b[38;5;21;01mexperimental\u001b[39;00m\u001b[38;5;21;01m.\u001b[39;00m\u001b[38;5;21;01mops\u001b[39;00m\u001b[38;5;21;01m.\u001b[39;00m\u001b[38;5;21;01mdata_service_ops\u001b[39;00m \u001b[38;5;28;01mimport\u001b[39;00m from_dataset_id\n\u001b[0;32m    355\u001b[0m \u001b[38;5;28;01mfrom\u001b[39;00m \u001b[38;5;21;01mtensorflow\u001b[39;00m\u001b[38;5;21;01m.\u001b[39;00m\u001b[38;5;21;01mpython\u001b[39;00m\u001b[38;5;21;01m.\u001b[39;00m\u001b[38;5;21;01mdata\u001b[39;00m\u001b[38;5;21;01m.\u001b[39;00m\u001b[38;5;21;01mexperimental\u001b[39;00m\u001b[38;5;21;01m.\u001b[39;00m\u001b[38;5;21;01mops\u001b[39;00m\u001b[38;5;21;01m.\u001b[39;00m\u001b[38;5;21;01mdata_service_ops\u001b[39;00m \u001b[38;5;28;01mimport\u001b[39;00m register_dataset\n",
      "File \u001b[1;32mc:\\Downloaded_Apps\\Anaconda\\envs\\tf-gpu\\lib\\site-packages\\tensorflow\\python\\data\\experimental\\ops\\data_service_ops.py:26\u001b[0m\n\u001b[0;32m     24\u001b[0m \u001b[38;5;28;01mfrom\u001b[39;00m \u001b[38;5;21;01mtensorflow\u001b[39;00m\u001b[38;5;21;01m.\u001b[39;00m\u001b[38;5;21;01mpython\u001b[39;00m \u001b[38;5;28;01mimport\u001b[39;00m tf2\n\u001b[0;32m     25\u001b[0m \u001b[38;5;28;01mfrom\u001b[39;00m \u001b[38;5;21;01mtensorflow\u001b[39;00m\u001b[38;5;21;01m.\u001b[39;00m\u001b[38;5;21;01mpython\u001b[39;00m\u001b[38;5;21;01m.\u001b[39;00m\u001b[38;5;21;01mcompat\u001b[39;00m \u001b[38;5;28;01mimport\u001b[39;00m compat\n\u001b[1;32m---> 26\u001b[0m \u001b[38;5;28;01mfrom\u001b[39;00m \u001b[38;5;21;01mtensorflow\u001b[39;00m\u001b[38;5;21;01m.\u001b[39;00m\u001b[38;5;21;01mpython\u001b[39;00m\u001b[38;5;21;01m.\u001b[39;00m\u001b[38;5;21;01mdata\u001b[39;00m\u001b[38;5;21;01m.\u001b[39;00m\u001b[38;5;21;01mexperimental\u001b[39;00m\u001b[38;5;21;01m.\u001b[39;00m\u001b[38;5;21;01mops\u001b[39;00m \u001b[38;5;28;01mimport\u001b[39;00m compression_ops\n\u001b[0;32m     27\u001b[0m \u001b[38;5;28;01mfrom\u001b[39;00m \u001b[38;5;21;01mtensorflow\u001b[39;00m\u001b[38;5;21;01m.\u001b[39;00m\u001b[38;5;21;01mpython\u001b[39;00m\u001b[38;5;21;01m.\u001b[39;00m\u001b[38;5;21;01mdata\u001b[39;00m\u001b[38;5;21;01m.\u001b[39;00m\u001b[38;5;21;01mexperimental\u001b[39;00m\u001b[38;5;21;01m.\u001b[39;00m\u001b[38;5;21;01mops\u001b[39;00m\u001b[38;5;21;01m.\u001b[39;00m\u001b[38;5;21;01mdistribute_options\u001b[39;00m \u001b[38;5;28;01mimport\u001b[39;00m AutoShardPolicy\n\u001b[0;32m     28\u001b[0m \u001b[38;5;28;01mfrom\u001b[39;00m \u001b[38;5;21;01mtensorflow\u001b[39;00m\u001b[38;5;21;01m.\u001b[39;00m\u001b[38;5;21;01mpython\u001b[39;00m\u001b[38;5;21;01m.\u001b[39;00m\u001b[38;5;21;01mdata\u001b[39;00m\u001b[38;5;21;01m.\u001b[39;00m\u001b[38;5;21;01mexperimental\u001b[39;00m\u001b[38;5;21;01m.\u001b[39;00m\u001b[38;5;21;01mops\u001b[39;00m\u001b[38;5;21;01m.\u001b[39;00m\u001b[38;5;21;01mdistribute_options\u001b[39;00m \u001b[38;5;28;01mimport\u001b[39;00m ExternalStatePolicy\n",
      "File \u001b[1;32mc:\\Downloaded_Apps\\Anaconda\\envs\\tf-gpu\\lib\\site-packages\\tensorflow\\python\\data\\experimental\\ops\\compression_ops.py:20\u001b[0m\n\u001b[0;32m     17\u001b[0m \u001b[38;5;28;01mfrom\u001b[39;00m \u001b[38;5;21;01m__future__\u001b[39;00m \u001b[38;5;28;01mimport\u001b[39;00m division\n\u001b[0;32m     18\u001b[0m \u001b[38;5;28;01mfrom\u001b[39;00m \u001b[38;5;21;01m__future__\u001b[39;00m \u001b[38;5;28;01mimport\u001b[39;00m print_function\n\u001b[1;32m---> 20\u001b[0m \u001b[38;5;28;01mfrom\u001b[39;00m \u001b[38;5;21;01mtensorflow\u001b[39;00m\u001b[38;5;21;01m.\u001b[39;00m\u001b[38;5;21;01mpython\u001b[39;00m\u001b[38;5;21;01m.\u001b[39;00m\u001b[38;5;21;01mdata\u001b[39;00m\u001b[38;5;21;01m.\u001b[39;00m\u001b[38;5;21;01mutil\u001b[39;00m \u001b[38;5;28;01mimport\u001b[39;00m structure\n\u001b[0;32m     21\u001b[0m \u001b[38;5;28;01mfrom\u001b[39;00m \u001b[38;5;21;01mtensorflow\u001b[39;00m\u001b[38;5;21;01m.\u001b[39;00m\u001b[38;5;21;01mpython\u001b[39;00m\u001b[38;5;21;01m.\u001b[39;00m\u001b[38;5;21;01mops\u001b[39;00m \u001b[38;5;28;01mimport\u001b[39;00m gen_experimental_dataset_ops \u001b[38;5;28;01mas\u001b[39;00m ged_ops\n\u001b[0;32m     24\u001b[0m \u001b[38;5;28;01mdef\u001b[39;00m \u001b[38;5;21mcompress\u001b[39m(element):\n",
      "File \u001b[1;32mc:\\Downloaded_Apps\\Anaconda\\envs\\tf-gpu\\lib\\site-packages\\tensorflow\\python\\data\\util\\structure.py:26\u001b[0m\n\u001b[0;32m     23\u001b[0m \u001b[38;5;28;01mimport\u001b[39;00m \u001b[38;5;21;01msix\u001b[39;00m\n\u001b[0;32m     24\u001b[0m \u001b[38;5;28;01mimport\u001b[39;00m \u001b[38;5;21;01mwrapt\u001b[39;00m\n\u001b[1;32m---> 26\u001b[0m \u001b[38;5;28;01mfrom\u001b[39;00m \u001b[38;5;21;01mtensorflow\u001b[39;00m\u001b[38;5;21;01m.\u001b[39;00m\u001b[38;5;21;01mpython\u001b[39;00m\u001b[38;5;21;01m.\u001b[39;00m\u001b[38;5;21;01mdata\u001b[39;00m\u001b[38;5;21;01m.\u001b[39;00m\u001b[38;5;21;01mutil\u001b[39;00m \u001b[38;5;28;01mimport\u001b[39;00m nest\n\u001b[0;32m     27\u001b[0m \u001b[38;5;28;01mfrom\u001b[39;00m \u001b[38;5;21;01mtensorflow\u001b[39;00m\u001b[38;5;21;01m.\u001b[39;00m\u001b[38;5;21;01mpython\u001b[39;00m\u001b[38;5;21;01m.\u001b[39;00m\u001b[38;5;21;01mframework\u001b[39;00m \u001b[38;5;28;01mimport\u001b[39;00m composite_tensor\n\u001b[0;32m     28\u001b[0m \u001b[38;5;28;01mfrom\u001b[39;00m \u001b[38;5;21;01mtensorflow\u001b[39;00m\u001b[38;5;21;01m.\u001b[39;00m\u001b[38;5;21;01mpython\u001b[39;00m\u001b[38;5;21;01m.\u001b[39;00m\u001b[38;5;21;01mframework\u001b[39;00m \u001b[38;5;28;01mimport\u001b[39;00m ops\n",
      "File \u001b[1;32mc:\\Downloaded_Apps\\Anaconda\\envs\\tf-gpu\\lib\\site-packages\\tensorflow\\python\\data\\util\\nest.py:40\u001b[0m\n\u001b[0;32m     36\u001b[0m \u001b[38;5;28;01mfrom\u001b[39;00m \u001b[38;5;21;01m__future__\u001b[39;00m \u001b[38;5;28;01mimport\u001b[39;00m print_function\n\u001b[0;32m     38\u001b[0m \u001b[38;5;28;01mimport\u001b[39;00m \u001b[38;5;21;01msix\u001b[39;00m \u001b[38;5;28;01mas\u001b[39;00m \u001b[38;5;21;01m_six\u001b[39;00m\n\u001b[1;32m---> 40\u001b[0m \u001b[38;5;28;01mfrom\u001b[39;00m \u001b[38;5;21;01mtensorflow\u001b[39;00m\u001b[38;5;21;01m.\u001b[39;00m\u001b[38;5;21;01mpython\u001b[39;00m\u001b[38;5;21;01m.\u001b[39;00m\u001b[38;5;21;01mframework\u001b[39;00m \u001b[38;5;28;01mimport\u001b[39;00m sparse_tensor \u001b[38;5;28;01mas\u001b[39;00m _sparse_tensor\n\u001b[0;32m     41\u001b[0m \u001b[38;5;28;01mfrom\u001b[39;00m \u001b[38;5;21;01mtensorflow\u001b[39;00m\u001b[38;5;21;01m.\u001b[39;00m\u001b[38;5;21;01mpython\u001b[39;00m\u001b[38;5;21;01m.\u001b[39;00m\u001b[38;5;21;01mutil\u001b[39;00m \u001b[38;5;28;01mimport\u001b[39;00m _pywrap_utils\n\u001b[0;32m     42\u001b[0m \u001b[38;5;28;01mfrom\u001b[39;00m \u001b[38;5;21;01mtensorflow\u001b[39;00m\u001b[38;5;21;01m.\u001b[39;00m\u001b[38;5;21;01mpython\u001b[39;00m\u001b[38;5;21;01m.\u001b[39;00m\u001b[38;5;21;01mutil\u001b[39;00m \u001b[38;5;28;01mimport\u001b[39;00m nest\n",
      "File \u001b[1;32mc:\\Downloaded_Apps\\Anaconda\\envs\\tf-gpu\\lib\\site-packages\\tensorflow\\python\\framework\\sparse_tensor.py:28\u001b[0m\n\u001b[0;32m     26\u001b[0m \u001b[38;5;28;01mfrom\u001b[39;00m \u001b[38;5;21;01mtensorflow\u001b[39;00m\u001b[38;5;21;01m.\u001b[39;00m\u001b[38;5;21;01mpython\u001b[39;00m \u001b[38;5;28;01mimport\u001b[39;00m tf2\n\u001b[0;32m     27\u001b[0m \u001b[38;5;28;01mfrom\u001b[39;00m \u001b[38;5;21;01mtensorflow\u001b[39;00m\u001b[38;5;21;01m.\u001b[39;00m\u001b[38;5;21;01mpython\u001b[39;00m\u001b[38;5;21;01m.\u001b[39;00m\u001b[38;5;21;01mframework\u001b[39;00m \u001b[38;5;28;01mimport\u001b[39;00m composite_tensor\n\u001b[1;32m---> 28\u001b[0m \u001b[38;5;28;01mfrom\u001b[39;00m \u001b[38;5;21;01mtensorflow\u001b[39;00m\u001b[38;5;21;01m.\u001b[39;00m\u001b[38;5;21;01mpython\u001b[39;00m\u001b[38;5;21;01m.\u001b[39;00m\u001b[38;5;21;01mframework\u001b[39;00m \u001b[38;5;28;01mimport\u001b[39;00m constant_op\n\u001b[0;32m     29\u001b[0m \u001b[38;5;28;01mfrom\u001b[39;00m \u001b[38;5;21;01mtensorflow\u001b[39;00m\u001b[38;5;21;01m.\u001b[39;00m\u001b[38;5;21;01mpython\u001b[39;00m\u001b[38;5;21;01m.\u001b[39;00m\u001b[38;5;21;01mframework\u001b[39;00m \u001b[38;5;28;01mimport\u001b[39;00m dtypes\n\u001b[0;32m     30\u001b[0m \u001b[38;5;28;01mfrom\u001b[39;00m \u001b[38;5;21;01mtensorflow\u001b[39;00m\u001b[38;5;21;01m.\u001b[39;00m\u001b[38;5;21;01mpython\u001b[39;00m\u001b[38;5;21;01m.\u001b[39;00m\u001b[38;5;21;01mframework\u001b[39;00m \u001b[38;5;28;01mimport\u001b[39;00m ops\n",
      "File \u001b[1;32mc:\\Downloaded_Apps\\Anaconda\\envs\\tf-gpu\\lib\\site-packages\\tensorflow\\python\\framework\\constant_op.py:29\u001b[0m\n\u001b[0;32m     27\u001b[0m \u001b[38;5;28;01mfrom\u001b[39;00m \u001b[38;5;21;01mtensorflow\u001b[39;00m\u001b[38;5;21;01m.\u001b[39;00m\u001b[38;5;21;01mcore\u001b[39;00m\u001b[38;5;21;01m.\u001b[39;00m\u001b[38;5;21;01mframework\u001b[39;00m \u001b[38;5;28;01mimport\u001b[39;00m types_pb2\n\u001b[0;32m     28\u001b[0m \u001b[38;5;28;01mfrom\u001b[39;00m \u001b[38;5;21;01mtensorflow\u001b[39;00m\u001b[38;5;21;01m.\u001b[39;00m\u001b[38;5;21;01mpython\u001b[39;00m\u001b[38;5;21;01m.\u001b[39;00m\u001b[38;5;21;01meager\u001b[39;00m \u001b[38;5;28;01mimport\u001b[39;00m context\n\u001b[1;32m---> 29\u001b[0m \u001b[38;5;28;01mfrom\u001b[39;00m \u001b[38;5;21;01mtensorflow\u001b[39;00m\u001b[38;5;21;01m.\u001b[39;00m\u001b[38;5;21;01mpython\u001b[39;00m\u001b[38;5;21;01m.\u001b[39;00m\u001b[38;5;21;01meager\u001b[39;00m \u001b[38;5;28;01mimport\u001b[39;00m execute\n\u001b[0;32m     30\u001b[0m \u001b[38;5;28;01mfrom\u001b[39;00m \u001b[38;5;21;01mtensorflow\u001b[39;00m\u001b[38;5;21;01m.\u001b[39;00m\u001b[38;5;21;01mpython\u001b[39;00m\u001b[38;5;21;01m.\u001b[39;00m\u001b[38;5;21;01mframework\u001b[39;00m \u001b[38;5;28;01mimport\u001b[39;00m dtypes\n\u001b[0;32m     31\u001b[0m \u001b[38;5;28;01mfrom\u001b[39;00m \u001b[38;5;21;01mtensorflow\u001b[39;00m\u001b[38;5;21;01m.\u001b[39;00m\u001b[38;5;21;01mpython\u001b[39;00m\u001b[38;5;21;01m.\u001b[39;00m\u001b[38;5;21;01mframework\u001b[39;00m \u001b[38;5;28;01mimport\u001b[39;00m op_callbacks\n",
      "File \u001b[1;32mc:\\Downloaded_Apps\\Anaconda\\envs\\tf-gpu\\lib\\site-packages\\tensorflow\\python\\eager\\execute.py:27\u001b[0m\n\u001b[0;32m     25\u001b[0m \u001b[38;5;28;01mfrom\u001b[39;00m \u001b[38;5;21;01mtensorflow\u001b[39;00m\u001b[38;5;21;01m.\u001b[39;00m\u001b[38;5;21;01mpython\u001b[39;00m \u001b[38;5;28;01mimport\u001b[39;00m pywrap_tfe\n\u001b[0;32m     26\u001b[0m \u001b[38;5;28;01mfrom\u001b[39;00m \u001b[38;5;21;01mtensorflow\u001b[39;00m\u001b[38;5;21;01m.\u001b[39;00m\u001b[38;5;21;01mpython\u001b[39;00m\u001b[38;5;21;01m.\u001b[39;00m\u001b[38;5;21;01meager\u001b[39;00m \u001b[38;5;28;01mimport\u001b[39;00m core\n\u001b[1;32m---> 27\u001b[0m \u001b[38;5;28;01mfrom\u001b[39;00m \u001b[38;5;21;01mtensorflow\u001b[39;00m\u001b[38;5;21;01m.\u001b[39;00m\u001b[38;5;21;01mpython\u001b[39;00m\u001b[38;5;21;01m.\u001b[39;00m\u001b[38;5;21;01mframework\u001b[39;00m \u001b[38;5;28;01mimport\u001b[39;00m dtypes\n\u001b[0;32m     28\u001b[0m \u001b[38;5;28;01mfrom\u001b[39;00m \u001b[38;5;21;01mtensorflow\u001b[39;00m\u001b[38;5;21;01m.\u001b[39;00m\u001b[38;5;21;01mpython\u001b[39;00m\u001b[38;5;21;01m.\u001b[39;00m\u001b[38;5;21;01mframework\u001b[39;00m \u001b[38;5;28;01mimport\u001b[39;00m ops\n\u001b[0;32m     29\u001b[0m \u001b[38;5;28;01mfrom\u001b[39;00m \u001b[38;5;21;01mtensorflow\u001b[39;00m\u001b[38;5;21;01m.\u001b[39;00m\u001b[38;5;21;01mpython\u001b[39;00m\u001b[38;5;21;01m.\u001b[39;00m\u001b[38;5;21;01mframework\u001b[39;00m \u001b[38;5;28;01mimport\u001b[39;00m tensor_shape\n",
      "File \u001b[1;32mc:\\Downloaded_Apps\\Anaconda\\envs\\tf-gpu\\lib\\site-packages\\tensorflow\\python\\framework\\dtypes.py:585\u001b[0m\n\u001b[0;32m    556\u001b[0m     _NP_TO_TF[pdt] \u001b[38;5;241m=\u001b[39m \u001b[38;5;28mnext\u001b[39m(\n\u001b[0;32m    557\u001b[0m         _NP_TO_TF[dt] \u001b[38;5;28;01mfor\u001b[39;00m dt \u001b[38;5;129;01min\u001b[39;00m _NP_TO_TF \u001b[38;5;28;01mif\u001b[39;00m dt \u001b[38;5;241m==\u001b[39m pdt()\u001b[38;5;241m.\u001b[39mdtype)  \u001b[38;5;66;03m# pylint: disable=no-value-for-parameter\u001b[39;00m\n\u001b[0;32m    559\u001b[0m TF_VALUE_DTYPES \u001b[38;5;241m=\u001b[39m \u001b[38;5;28mset\u001b[39m(_NP_TO_TF\u001b[38;5;241m.\u001b[39mvalues())\n\u001b[0;32m    561\u001b[0m _TF_TO_NP \u001b[38;5;241m=\u001b[39m {\n\u001b[0;32m    562\u001b[0m     types_pb2\u001b[38;5;241m.\u001b[39mDT_HALF:\n\u001b[0;32m    563\u001b[0m         np\u001b[38;5;241m.\u001b[39mfloat16,\n\u001b[0;32m    564\u001b[0m     types_pb2\u001b[38;5;241m.\u001b[39mDT_FLOAT:\n\u001b[0;32m    565\u001b[0m         np\u001b[38;5;241m.\u001b[39mfloat32,\n\u001b[0;32m    566\u001b[0m     types_pb2\u001b[38;5;241m.\u001b[39mDT_DOUBLE:\n\u001b[0;32m    567\u001b[0m         np\u001b[38;5;241m.\u001b[39mfloat64,\n\u001b[0;32m    568\u001b[0m     types_pb2\u001b[38;5;241m.\u001b[39mDT_INT32:\n\u001b[0;32m    569\u001b[0m         np\u001b[38;5;241m.\u001b[39mint32,\n\u001b[0;32m    570\u001b[0m     types_pb2\u001b[38;5;241m.\u001b[39mDT_UINT8:\n\u001b[0;32m    571\u001b[0m         np\u001b[38;5;241m.\u001b[39muint8,\n\u001b[0;32m    572\u001b[0m     types_pb2\u001b[38;5;241m.\u001b[39mDT_UINT16:\n\u001b[0;32m    573\u001b[0m         np\u001b[38;5;241m.\u001b[39muint16,\n\u001b[0;32m    574\u001b[0m     types_pb2\u001b[38;5;241m.\u001b[39mDT_UINT32:\n\u001b[0;32m    575\u001b[0m         np\u001b[38;5;241m.\u001b[39muint32,\n\u001b[0;32m    576\u001b[0m     types_pb2\u001b[38;5;241m.\u001b[39mDT_UINT64:\n\u001b[0;32m    577\u001b[0m         np\u001b[38;5;241m.\u001b[39muint64,\n\u001b[0;32m    578\u001b[0m     types_pb2\u001b[38;5;241m.\u001b[39mDT_INT16:\n\u001b[0;32m    579\u001b[0m         np\u001b[38;5;241m.\u001b[39mint16,\n\u001b[0;32m    580\u001b[0m     types_pb2\u001b[38;5;241m.\u001b[39mDT_INT8:\n\u001b[0;32m    581\u001b[0m         np\u001b[38;5;241m.\u001b[39mint8,\n\u001b[0;32m    582\u001b[0m     \u001b[38;5;66;03m# NOTE(touts): For strings we use np.object as it supports variable length\u001b[39;00m\n\u001b[0;32m    583\u001b[0m     \u001b[38;5;66;03m# strings.\u001b[39;00m\n\u001b[0;32m    584\u001b[0m     types_pb2\u001b[38;5;241m.\u001b[39mDT_STRING:\n\u001b[1;32m--> 585\u001b[0m         \u001b[43mnp\u001b[49m\u001b[38;5;241;43m.\u001b[39;49m\u001b[43mobject\u001b[49m,\n\u001b[0;32m    586\u001b[0m     types_pb2\u001b[38;5;241m.\u001b[39mDT_COMPLEX64:\n\u001b[0;32m    587\u001b[0m         np\u001b[38;5;241m.\u001b[39mcomplex64,\n\u001b[0;32m    588\u001b[0m     types_pb2\u001b[38;5;241m.\u001b[39mDT_COMPLEX128:\n\u001b[0;32m    589\u001b[0m         np\u001b[38;5;241m.\u001b[39mcomplex128,\n\u001b[0;32m    590\u001b[0m     types_pb2\u001b[38;5;241m.\u001b[39mDT_INT64:\n\u001b[0;32m    591\u001b[0m         np\u001b[38;5;241m.\u001b[39mint64,\n\u001b[0;32m    592\u001b[0m     types_pb2\u001b[38;5;241m.\u001b[39mDT_BOOL:\n\u001b[0;32m    593\u001b[0m         np\u001b[38;5;241m.\u001b[39mbool_,\n\u001b[0;32m    594\u001b[0m     types_pb2\u001b[38;5;241m.\u001b[39mDT_QINT8:\n\u001b[0;32m    595\u001b[0m         _np_qint8,\n\u001b[0;32m    596\u001b[0m     types_pb2\u001b[38;5;241m.\u001b[39mDT_QUINT8:\n\u001b[0;32m    597\u001b[0m         _np_quint8,\n\u001b[0;32m    598\u001b[0m     types_pb2\u001b[38;5;241m.\u001b[39mDT_QINT16:\n\u001b[0;32m    599\u001b[0m         _np_qint16,\n\u001b[0;32m    600\u001b[0m     types_pb2\u001b[38;5;241m.\u001b[39mDT_QUINT16:\n\u001b[0;32m    601\u001b[0m         _np_quint16,\n\u001b[0;32m    602\u001b[0m     types_pb2\u001b[38;5;241m.\u001b[39mDT_QINT32:\n\u001b[0;32m    603\u001b[0m         _np_qint32,\n\u001b[0;32m    604\u001b[0m     types_pb2\u001b[38;5;241m.\u001b[39mDT_BFLOAT16:\n\u001b[0;32m    605\u001b[0m         _np_bfloat16,\n\u001b[0;32m    606\u001b[0m \n\u001b[0;32m    607\u001b[0m     \u001b[38;5;66;03m# Ref types\u001b[39;00m\n\u001b[0;32m    608\u001b[0m     types_pb2\u001b[38;5;241m.\u001b[39mDT_HALF_REF:\n\u001b[0;32m    609\u001b[0m         np\u001b[38;5;241m.\u001b[39mfloat16,\n\u001b[0;32m    610\u001b[0m     types_pb2\u001b[38;5;241m.\u001b[39mDT_FLOAT_REF:\n\u001b[0;32m    611\u001b[0m         np\u001b[38;5;241m.\u001b[39mfloat32,\n\u001b[0;32m    612\u001b[0m     types_pb2\u001b[38;5;241m.\u001b[39mDT_DOUBLE_REF:\n\u001b[0;32m    613\u001b[0m         np\u001b[38;5;241m.\u001b[39mfloat64,\n\u001b[0;32m    614\u001b[0m     types_pb2\u001b[38;5;241m.\u001b[39mDT_INT32_REF:\n\u001b[0;32m    615\u001b[0m         np\u001b[38;5;241m.\u001b[39mint32,\n\u001b[0;32m    616\u001b[0m     types_pb2\u001b[38;5;241m.\u001b[39mDT_UINT32_REF:\n\u001b[0;32m    617\u001b[0m         np\u001b[38;5;241m.\u001b[39muint32,\n\u001b[0;32m    618\u001b[0m     types_pb2\u001b[38;5;241m.\u001b[39mDT_UINT8_REF:\n\u001b[0;32m    619\u001b[0m         np\u001b[38;5;241m.\u001b[39muint8,\n\u001b[0;32m    620\u001b[0m     types_pb2\u001b[38;5;241m.\u001b[39mDT_UINT16_REF:\n\u001b[0;32m    621\u001b[0m         np\u001b[38;5;241m.\u001b[39muint16,\n\u001b[0;32m    622\u001b[0m     types_pb2\u001b[38;5;241m.\u001b[39mDT_INT16_REF:\n\u001b[0;32m    623\u001b[0m         np\u001b[38;5;241m.\u001b[39mint16,\n\u001b[0;32m    624\u001b[0m     types_pb2\u001b[38;5;241m.\u001b[39mDT_INT8_REF:\n\u001b[0;32m    625\u001b[0m         np\u001b[38;5;241m.\u001b[39mint8,\n\u001b[0;32m    626\u001b[0m     types_pb2\u001b[38;5;241m.\u001b[39mDT_STRING_REF:\n\u001b[0;32m    627\u001b[0m         np\u001b[38;5;241m.\u001b[39mobject,\n\u001b[0;32m    628\u001b[0m     types_pb2\u001b[38;5;241m.\u001b[39mDT_COMPLEX64_REF:\n\u001b[0;32m    629\u001b[0m         np\u001b[38;5;241m.\u001b[39mcomplex64,\n\u001b[0;32m    630\u001b[0m     types_pb2\u001b[38;5;241m.\u001b[39mDT_COMPLEX128_REF:\n\u001b[0;32m    631\u001b[0m         np\u001b[38;5;241m.\u001b[39mcomplex128,\n\u001b[0;32m    632\u001b[0m     types_pb2\u001b[38;5;241m.\u001b[39mDT_INT64_REF:\n\u001b[0;32m    633\u001b[0m         np\u001b[38;5;241m.\u001b[39mint64,\n\u001b[0;32m    634\u001b[0m     types_pb2\u001b[38;5;241m.\u001b[39mDT_UINT64_REF:\n\u001b[0;32m    635\u001b[0m         np\u001b[38;5;241m.\u001b[39muint64,\n\u001b[0;32m    636\u001b[0m     types_pb2\u001b[38;5;241m.\u001b[39mDT_BOOL_REF:\n\u001b[0;32m    637\u001b[0m         np\u001b[38;5;241m.\u001b[39mbool,\n\u001b[0;32m    638\u001b[0m     types_pb2\u001b[38;5;241m.\u001b[39mDT_QINT8_REF:\n\u001b[0;32m    639\u001b[0m         _np_qint8,\n\u001b[0;32m    640\u001b[0m     types_pb2\u001b[38;5;241m.\u001b[39mDT_QUINT8_REF:\n\u001b[0;32m    641\u001b[0m         _np_quint8,\n\u001b[0;32m    642\u001b[0m     types_pb2\u001b[38;5;241m.\u001b[39mDT_QINT16_REF:\n\u001b[0;32m    643\u001b[0m         _np_qint16,\n\u001b[0;32m    644\u001b[0m     types_pb2\u001b[38;5;241m.\u001b[39mDT_QUINT16_REF:\n\u001b[0;32m    645\u001b[0m         _np_quint16,\n\u001b[0;32m    646\u001b[0m     types_pb2\u001b[38;5;241m.\u001b[39mDT_QINT32_REF:\n\u001b[0;32m    647\u001b[0m         _np_qint32,\n\u001b[0;32m    648\u001b[0m     types_pb2\u001b[38;5;241m.\u001b[39mDT_BFLOAT16_REF:\n\u001b[0;32m    649\u001b[0m         _np_bfloat16,\n\u001b[0;32m    650\u001b[0m }\n\u001b[0;32m    652\u001b[0m _QUANTIZED_DTYPES_NO_REF \u001b[38;5;241m=\u001b[39m \u001b[38;5;28mfrozenset\u001b[39m([qint8, quint8, qint16, quint16, qint32])\n\u001b[0;32m    653\u001b[0m _QUANTIZED_DTYPES_REF \u001b[38;5;241m=\u001b[39m \u001b[38;5;28mfrozenset\u001b[39m(\n\u001b[0;32m    654\u001b[0m     [qint8_ref, quint8_ref, qint16_ref, quint16_ref, qint32_ref])\n",
      "File \u001b[1;32mc:\\Downloaded_Apps\\Anaconda\\envs\\tf-gpu\\lib\\site-packages\\numpy\\__init__.py:324\u001b[0m, in \u001b[0;36m__getattr__\u001b[1;34m(attr)\u001b[0m\n\u001b[0;32m    319\u001b[0m     warnings\u001b[38;5;241m.\u001b[39mwarn(\n\u001b[0;32m    320\u001b[0m         \u001b[38;5;124mf\u001b[39m\u001b[38;5;124m\"\u001b[39m\u001b[38;5;124mIn the future `np.\u001b[39m\u001b[38;5;132;01m{\u001b[39;00mattr\u001b[38;5;132;01m}\u001b[39;00m\u001b[38;5;124m` will be defined as the \u001b[39m\u001b[38;5;124m\"\u001b[39m\n\u001b[0;32m    321\u001b[0m         \u001b[38;5;124m\"\u001b[39m\u001b[38;5;124mcorresponding NumPy scalar.\u001b[39m\u001b[38;5;124m\"\u001b[39m, \u001b[38;5;167;01mFutureWarning\u001b[39;00m, stacklevel\u001b[38;5;241m=\u001b[39m\u001b[38;5;241m2\u001b[39m)\n\u001b[0;32m    323\u001b[0m \u001b[38;5;28;01mif\u001b[39;00m attr \u001b[38;5;129;01min\u001b[39;00m __former_attrs__:\n\u001b[1;32m--> 324\u001b[0m     \u001b[38;5;28;01mraise\u001b[39;00m \u001b[38;5;167;01mAttributeError\u001b[39;00m(__former_attrs__[attr])\n\u001b[0;32m    326\u001b[0m \u001b[38;5;28;01mif\u001b[39;00m attr \u001b[38;5;241m==\u001b[39m \u001b[38;5;124m'\u001b[39m\u001b[38;5;124mtesting\u001b[39m\u001b[38;5;124m'\u001b[39m:\n\u001b[0;32m    327\u001b[0m     \u001b[38;5;28;01mimport\u001b[39;00m \u001b[38;5;21;01mnumpy\u001b[39;00m\u001b[38;5;21;01m.\u001b[39;00m\u001b[38;5;21;01mtesting\u001b[39;00m \u001b[38;5;28;01mas\u001b[39;00m \u001b[38;5;21;01mtesting\u001b[39;00m\n",
      "\u001b[1;31mAttributeError\u001b[0m: module 'numpy' has no attribute 'object'.\n`np.object` was a deprecated alias for the builtin `object`. To avoid this error in existing code, use `object` by itself. Doing this will not modify any behavior and is safe. \nThe aliases was originally deprecated in NumPy 1.20; for more details and guidance see the original release note at:\n    https://numpy.org/devdocs/release/1.20.0-notes.html#deprecations"
     ]
    }
   ],
   "source": [
    "# import numpy as np\n",
    "# import pandas as pd\n",
    "from sklearn.model_selection import train_test_split\n",
    "from keras.models import Sequential\n",
    "from keras.layers import Conv2D, Flatten, Dense, MaxPooling2D, Input, Dropout, Lambda, Rescaling, BatchNormalization\n",
    "from keras.layers import RandomFlip, RandomCrop, RandomZoom, RandomRotation, RandomTranslation, RandomBrightness\n",
    "from keras.utils import to_categorical\n",
    "import matplotlib.pyplot as plt\n",
    "from keras.optimizers import SGD, Adam, RMSprop\n",
    "from keras.preprocessing.image import ImageDataGenerator\n",
    "from google.colab import files\n",
    "from keras.callbacks import EarlyStopping\n",
    "from sklearn.metrics import accuracy_score, classification_report, confusion_matrix\n",
    "from keras.utils import image_dataset_from_directory\n",
    "from tensorflow.data import AUTOTUNE\n",
    "from tensorflow import random\n",
    "from keras.losses import SparseCategoricalCrossentropy\n",
    "from keras.applications.resnet50 import ResNet50\n",
    "from keras.applications.densenet import DenseNet201\n",
    "from keras.applications.vgg16 import VGG16\n",
    "from keras.applications.vgg16 import preprocess_input\n",
    "from keras.models import load_model"
   ]
  },
  {
   "cell_type": "markdown",
   "metadata": {},
   "source": [
    "### Dummy classifier\n",
    "Let's first observe how a random classifier would work on the input data if it were to only choose a class randomly. This will be considered a baseline for the performance of our networs. (in the way that if a network performs worse than the random classifier, it is a terrible model)"
   ]
  },
  {
   "cell_type": "code",
   "execution_count": 10,
   "metadata": {},
   "outputs": [],
   "source": [
    "x_dummy_train, x_dummy_test, y_dummy_train, y_dummy_test = train_test_split(x_all, y_all, test_size=0.2, stratify=y_all)"
   ]
  },
  {
   "cell_type": "code",
   "execution_count": 16,
   "metadata": {},
   "outputs": [
    {
     "name": "stdout",
     "output_type": "stream",
     "text": [
      "Random Classifier Accuracy: 0.16614906832298137\n"
     ]
    }
   ],
   "source": [
    "random_classifier = DummyClassifier(strategy='uniform')\n",
    "random_classifier.fit(x_dummy_train, y_dummy_train)\n",
    "y_pred_random = random_classifier.predict(x_dummy_test)\n",
    "\n",
    "accuracy_random = accuracy_score(y_dummy_test, y_pred_random)\n",
    "\n",
    "print(\"Random Classifier Accuracy:\", accuracy_random)"
   ]
  },
  {
   "cell_type": "code",
   "execution_count": null,
   "metadata": {},
   "outputs": [],
   "source": [
    "# drive paths\n",
    "PLOT_PATH = \"./drive/MyDrive/Colab_Data/plotsFinal\"\n",
    "INPUT_224_PATH = \"./drive/MyDrive/Colab_Data/224\"\n",
    "INPUT_64_PATH = \"./drive/MyDrive/Colab_Data/64\"\n",
    "MODELS_PATH = \"./drive/MyDrive/Colab_Data/models\""
   ]
  },
  {
   "cell_type": "code",
   "execution_count": null,
   "metadata": {},
   "outputs": [],
   "source": [
    "# utility functions\n",
    "def plot_accuracy_loss_subplt(history, title, path, fig_size):\n",
    "  fig, (ax1, ax2) = plt.subplots(1, 2, figsize=fig_size)\n",
    "  ax1.plot(history.history['accuracy'], label='Model Accuracy')\n",
    "  ax1.plot(history.history['val_accuracy'])\n",
    "  ax1.legend(['train', 'test'])\n",
    "  #ax1.set_xlabel('epoch')\n",
    "  ax1.set_ylabel('accuracy')\n",
    "  ax2.plot(history.history['loss'], label='Model Loss')\n",
    "  ax2.plot(history.history['val_loss'])\n",
    "  ax2.legend(['train', 'test'])\n",
    "  #ax2.set_xlabel('epoch')\n",
    "  ax2.set_ylabel('loss')\n",
    "  plt.subplots_adjust(hspace=0.9)\n",
    "  plt.title(title)\n",
    "  plt.savefig(path)\n",
    "  files.download(path)\n",
    "  plt.show()"
   ]
  },
  {
   "cell_type": "code",
   "execution_count": null,
   "metadata": {},
   "outputs": [],
   "source": [
    "### Data loading in drive\n",
    "test_ds_224 = image_dataset_from_directory(f\"{INPUT_224_PATH}/test\",\n",
    "                                        labels=\"inferred\",\n",
    "                                        label_mode=\"categorical\",\n",
    "                                        color_mode='rgb',\n",
    "                                        batch_size=32,\n",
    "                                        image_size=(224,224),\n",
    "                                        seed=42)\n",
    "test_ds_64 = image_dataset_from_directory(f\"{INPUT_224_PATH}/test\",\n",
    "                                        labels=\"inferred\",\n",
    "                                        label_mode=\"categorical\",\n",
    "                                        color_mode='rgb',\n",
    "                                        batch_size=32,\n",
    "                                        image_size=(64,64),\n",
    "                                        seed=42)                    "
   ]
  },
  {
   "cell_type": "code",
   "execution_count": null,
   "metadata": {},
   "outputs": [],
   "source": [
    "train_ds_224 = image_dataset_from_directory(f\"{INPUT_224_PATH}/train\",\n",
    "                                        labels=\"inferred\",\n",
    "                                        label_mode=\"categorical\",\n",
    "                                        color_mode='rgb',\n",
    "                                        batch_size=32,\n",
    "                                        image_size=(224,224),\n",
    "                                        shuffle=True,\n",
    "                                        validation_split=0.111111,\n",
    "                                        subset=\"training\",\n",
    "                                        seed=42)\n",
    "\n",
    "val_ds_224 = image_dataset_from_directory(f\"{INPUT_224_PATH}/train\",\n",
    "                                        labels=\"inferred\",\n",
    "                                        label_mode=\"categorical\",\n",
    "                                        color_mode='rgb',\n",
    "                                        batch_size=32,\n",
    "                                        image_size=(224,224),\n",
    "                                        shuffle=True,\n",
    "                                        validation_split=0.111111,\n",
    "                                        subset=\"validation\",\n",
    "                                        seed=42)\n",
    "\n",
    "train_ds_224 = train_ds_224.cache().prefetch(buffer_size=AUTOTUNE)\n",
    "val_ds_224 = val_ds_224.cache().prefetch(buffer_size=AUTOTUNE)"
   ]
  },
  {
   "cell_type": "code",
   "execution_count": null,
   "metadata": {},
   "outputs": [],
   "source": [
    "train_ds_64 = image_dataset_from_directory(f\"{INPUT_64_PATH}/train\",\n",
    "                                        labels=\"inferred\",\n",
    "                                        label_mode=\"categorical\",\n",
    "                                        color_mode='rgb',\n",
    "                                        batch_size=32,\n",
    "                                        image_size=(224,224),\n",
    "                                        shuffle=True,\n",
    "                                        validation_split=0.111111,\n",
    "                                        subset=\"training\",\n",
    "                                        seed=42)\n",
    "\n",
    "val_ds_64 = image_dataset_from_directory(f\"{INPUT_64_PATH}/train\",\n",
    "                                        labels=\"inferred\",\n",
    "                                        label_mode=\"categorical\",\n",
    "                                        color_mode='rgb',\n",
    "                                        batch_size=32,\n",
    "                                        image_size=(224,224),\n",
    "                                        shuffle=True,\n",
    "                                        validation_split=0.111111,\n",
    "                                        subset=\"validation\",\n",
    "                                        seed=42)\n",
    "\n",
    "train_ds_64 = train_ds_64.cache().prefetch(buffer_size=AUTOTUNE)\n",
    "val_ds_64 = val_ds_64.cache().prefetch(buffer_size=AUTOTUNE)"
   ]
  },
  {
   "cell_type": "code",
   "execution_count": null,
   "metadata": {},
   "outputs": [],
   "source": [
    "# common for augmentation\n",
    "augmentation_layers = Sequential(name=\"Augmentation\")\n",
    "augmentation_layers.add(RandomFlip(\"horizontal\"))\n",
    "augmentation_layers.add(RandomTranslation((-0.1, 0.1), (-0.2, 0.2)))"
   ]
  },
  {
   "cell_type": "markdown",
   "metadata": {},
   "source": [
    "### Custom Simple Architecture\n",
    "Let's first train the model on a network comprised of 3 convolutional layers, 3 pooling layers and a dense neural network."
   ]
  },
  {
   "cell_type": "markdown",
   "metadata": {},
   "source": [
    "#### 64 x 64 Images"
   ]
  },
  {
   "cell_type": "code",
   "execution_count": null,
   "metadata": {},
   "outputs": [],
   "source": [
    "cnn_simple_model_64 = Sequential(name=\"Simple_CNN_64\")\n",
    "cnn_simple_model_64.add(Input(shape=(64, 64, 3)))\n",
    "cnn_simple_model_64.add(Rescaling(1./255))\n",
    "\n",
    "# CNN\n",
    "cnn_simple_model_64.add(Conv2D(filters=32, kernel_size=3, strides=(1, 1), padding=\"same\", activation=\"relu\"))\n",
    "cnn_simple_model_64.add(MaxPooling2D(2))\n",
    "\n",
    "cnn_simple_model_64.add(Conv2D(filters=32, kernel_size=3, strides=(1, 1), padding=\"same\", activation=\"relu\"))\n",
    "cnn_simple_model_64.add(MaxPooling2D(2))\n",
    "\n",
    "# DNN\n",
    "cnn_simple_model_64.add(Flatten())\n",
    "cnn_simple_model_64.add(Dense(units=128, activation=\"relu\"))\n",
    "cnn_simple_model_64.add(Dense(units=64, activation=\"relu\"))\n",
    "cnn_simple_model_64.add(Dense(units=6, activation=\"softmax\"))\n",
    "cnn_simple_model_64.compile(optimizer=RMSprop(learning_rate=0.001), loss=\"categorical_crossentropy\", metrics=['accuracy'])\n",
    "cnn_simple_model_64.summary()"
   ]
  },
  {
   "cell_type": "code",
   "execution_count": null,
   "metadata": {},
   "outputs": [],
   "source": [
    "history = cnn_simple_model_64.fit(x=train_ds_64, validation_data = val_ds_64, epochs=30)"
   ]
  },
  {
   "cell_type": "code",
   "execution_count": null,
   "metadata": {},
   "outputs": [],
   "source": [
    "plot_accuracy_loss_subplt(history, \"64x64 CNN Simple\", \"./drive/MyDrive/An_IV/PRS/plotsFinal/cnn_simple_64.jpg\", (10, 3))"
   ]
  },
  {
   "cell_type": "markdown",
   "metadata": {},
   "source": [
    "##### Adding regularization"
   ]
  },
  {
   "cell_type": "code",
   "execution_count": null,
   "metadata": {},
   "outputs": [],
   "source": [
    "cnn_simple_model_reg_64 = Sequential(name=\"Simple_CNN_64_Normalized\")\n",
    "cnn_simple_model_reg_64.add(Input(shape=(224, 224, 3)))\n",
    "cnn_simple_model_reg_64.add(Rescaling(1./255))\n",
    "cnn_simple_model_reg_64.add(augmentation_layers)\n",
    "\n",
    "# CNN\n",
    "cnn_simple_model_reg_64.add(Conv2D(filters=32, kernel_size=3, padding=\"same\", activation=\"relu\"))\n",
    "cnn_simple_model_reg_64.add(MaxPooling2D(2))\n",
    "\n",
    "cnn_simple_model_reg_64.add(Conv2D(filters=32, kernel_size=3, padding=\"same\", activation=\"relu\"))\n",
    "cnn_simple_model_reg_64.add(MaxPooling2D(2))\n",
    "\n",
    "# DNN\n",
    "cnn_simple_model_reg_64.add(Flatten())\n",
    "cnn_simple_model_reg_64.add(Dense(units=128, activation=\"relu\"))\n",
    "cnn_simple_model_reg_64.add(Dropout(0.25))\n",
    "cnn_simple_model_reg_64.add(Dense(units=64, activation=\"relu\"))\n",
    "cnn_simple_model_reg_64.add(Dropout(0.25))\n",
    "cnn_simple_model_reg_64.add(Dense(units=6, activation=\"softmax\"))\n",
    "cnn_simple_model_reg_64.compile(optimizer=RMSprop(learning_rate=0.001), loss=\"categorical_crossentropy\", metrics=['accuracy'])\n",
    "cnn_simple_model_reg_64.summary()"
   ]
  },
  {
   "cell_type": "code",
   "execution_count": null,
   "metadata": {},
   "outputs": [],
   "source": [
    "history = cnn_simple_model_reg_64.fit(x=train_ds_64, validation_data = val_ds_64, epochs=30)"
   ]
  },
  {
   "cell_type": "code",
   "execution_count": null,
   "metadata": {},
   "outputs": [],
   "source": [
    "plot_accuracy_loss_subplt(history, \"64x64 CNN Simple Regularized\", f\"{PLOT_PATH}/cnn_simple_reg_64.jpg\", (10, 3))"
   ]
  },
  {
   "cell_type": "markdown",
   "metadata": {},
   "source": [
    "#### 224 x 224 Images"
   ]
  },
  {
   "cell_type": "code",
   "execution_count": null,
   "metadata": {},
   "outputs": [],
   "source": [
    "# Simple CNN model\n",
    "cnn_simple_224 = Sequential(name=\"Simple_CNN_64\")\n",
    "cnn_simple_224.add(Input(shape=(224, 224, 3)))\n",
    "cnn_simple_224.add(Rescaling(1./255))\n",
    "\n",
    "# CNN\n",
    "cnn_simple_224.add(Conv2D(filters=32, kernel_size=3, padding=\"same\", activation=\"relu\"))\n",
    "cnn_simple_224.add(MaxPooling2D(2))\n",
    "\n",
    "cnn_simple_224.add(Conv2D(filters=32, kernel_size=3, padding=\"same\", activation=\"relu\"))\n",
    "cnn_simple_224.add(MaxPooling2D(2))\n",
    "\n",
    "# DNN\n",
    "cnn_simple_224.add(Flatten())\n",
    "cnn_simple_224.add(Dense(units=128, activation=\"relu\"))\n",
    "cnn_simple_224.add(Dense(units=64, activation=\"relu\"))\n",
    "cnn_simple_224.add(Dense(units=6, activation=\"softmax\"))\n",
    "cnn_simple_224.compile(optimizer=RMSprop(learning_rate=0.001), loss=\"categorical_crossentropy\", metrics=['accuracy'])\n",
    "cnn_simple_224.summary()"
   ]
  },
  {
   "cell_type": "code",
   "execution_count": null,
   "metadata": {},
   "outputs": [],
   "source": [
    "history = cnn_simple_224.fit(train_ds_224, validation_data=val_ds_224, epochs=30)"
   ]
  },
  {
   "cell_type": "code",
   "execution_count": null,
   "metadata": {},
   "outputs": [],
   "source": [
    "plot_accuracy_loss_subplt(history, \"224x224 CNN Simple\", f\"{PLOT_PATH}/cnn_simple_224.jpg\", (10, 3))"
   ]
  },
  {
   "cell_type": "markdown",
   "metadata": {},
   "source": [
    "<img src=./data/plotsFinal/cnn_simple_224.jpg>"
   ]
  },
  {
   "cell_type": "code",
   "execution_count": null,
   "metadata": {},
   "outputs": [],
   "source": [
    "cnn_simple_224.save(f\"{MODELS_PATH}/cnn_simple_224.keras\")"
   ]
  },
  {
   "cell_type": "markdown",
   "metadata": {},
   "source": [
    "#### Adding regularization"
   ]
  },
  {
   "cell_type": "code",
   "execution_count": null,
   "metadata": {},
   "outputs": [],
   "source": [
    "# Simple CNN model\n",
    "cnn_simple_norm_224 = Sequential(name=\"Simple_CNN_224_Regularized\")\n",
    "cnn_simple_norm_224.add(Input(shape=(224, 224, 3)))\n",
    "cnn_simple_norm_224.add(Rescaling(1./255))\n",
    "cnn_simple_norm_224.add(augmentation_layers)\n",
    "\n",
    "# CNN\n",
    "cnn_simple_norm_224.add(Conv2D(filters=32, kernel_size=3, padding=\"same\", activation=\"relu\"))\n",
    "cnn_simple_norm_224.add(MaxPooling2D(2))\n",
    "\n",
    "cnn_simple_norm_224.add(Conv2D(filters=32, kernel_size=3, padding=\"same\", activation=\"relu\"))\n",
    "cnn_simple_norm_224.add(MaxPooling2D(2))\n",
    "\n",
    "# DNN\n",
    "cnn_simple_norm_224.add(Flatten())\n",
    "cnn_simple_norm_224.add(Dense(units=128, activation=\"relu\"))\n",
    "cnn_simple_norm_224.add(Dropout(0.25))\n",
    "cnn_simple_norm_224.add(Dense(units=64, activation=\"relu\"))\n",
    "cnn_simple_norm_224.add(Dropout(0.25))\n",
    "cnn_simple_norm_224.add(Dense(units=6, activation=\"softmax\"))\n",
    "cnn_simple_norm_224.compile(optimizer=RMSprop(learning_rate=0.001), loss=\"categorical_crossentropy\", metrics=['accuracy'])\n",
    "cnn_simple_norm_224.summary()"
   ]
  },
  {
   "cell_type": "code",
   "execution_count": null,
   "metadata": {},
   "outputs": [],
   "source": [
    "early_stop = EarlyStopping(monitor='val_loss', patience=10, restore_best_weights=True)\n",
    "my_callbacks = [early_stop]\n",
    "\n",
    "history = cnn_simple_norm_224.fit(train_ds_224, batch_size=32, epochs=30, validation_data=val_ds_224, callbacks=my_callbacks)"
   ]
  },
  {
   "cell_type": "markdown",
   "metadata": {},
   "source": [
    "<img src=./data/plotsFinal/cnn_s_reg_224.jpg>"
   ]
  },
  {
   "cell_type": "code",
   "execution_count": null,
   "metadata": {},
   "outputs": [],
   "source": [
    "plot_accuracy_loss_subplt(history, \"224x224 CNN aug norm\", f\"{PLOT_PATH}/cnn_s_reg_224.jpg\", (10, 3))"
   ]
  },
  {
   "cell_type": "code",
   "execution_count": null,
   "metadata": {},
   "outputs": [],
   "source": [
    "cnn_simple_norm_224.save(f\"{MODELS_PATH}/cnn_simple_reg_224.keras\")"
   ]
  },
  {
   "cell_type": "markdown",
   "metadata": {},
   "source": [
    "### Custom Deeper Architecture\n",
    "We add a few additional layers hoping it will help the model differentiate better between classes.\n",
    "#### 224 x 224 Images\n",
    "We will test the architecture on this dataset as the larger size allows multiple convolutional layers (as size is not as dramatically decreased)."
   ]
  },
  {
   "cell_type": "code",
   "execution_count": null,
   "metadata": {},
   "outputs": [],
   "source": [
    "cnn_deeper_224 = Sequential(name=\"Deeper_CNN_64_Normalized\")\n",
    "cnn_deeper_224.add(Input(shape=(224, 224, 3)))\n",
    "cnn_deeper_224.add(Rescaling(1./255))\n",
    "\n",
    "# CNN\n",
    "cnn_deeper_224.add(Conv2D(filters=64, kernel_size=3, padding=\"same\", activation=\"relu\"))\n",
    "cnn_deeper_224.add(Conv2D(filters=64, kernel_size=3, padding=\"same\", activation=\"relu\"))\n",
    "cnn_deeper_224.add(MaxPooling2D(2))\n",
    "\n",
    "cnn_deeper_224.add(Conv2D(filters=32, kernel_size=3, padding=\"same\", activation=\"relu\"))\n",
    "cnn_deeper_224.add(Conv2D(filters=32, kernel_size=3, padding=\"same\", activation=\"relu\"))\n",
    "cnn_deeper_224.add(MaxPooling2D(2))\n",
    "\n",
    "cnn_deeper_224.add(Conv2D(filters=16, kernel_size=3, padding=\"same\", activation=\"relu\"))\n",
    "cnn_deeper_224.add(MaxPooling2D(2))\n",
    "\n",
    "# DNN\n",
    "cnn_deeper_224.add(Flatten())\n",
    "cnn_deeper_224.add(Dense(units=128, activation=\"relu\"))\n",
    "cnn_deeper_224.add(Dense(units=64, activation=\"relu\"))\n",
    "cnn_deeper_224.add(Dense(units=6, activation=\"softmax\"))\n",
    "cnn_deeper_224.compile(optimizer=RMSprop(learning_rate=0.001), loss=\"categorical_crossentropy\", metrics=['accuracy'])\n",
    "cnn_deeper_224.summary()"
   ]
  },
  {
   "cell_type": "code",
   "execution_count": null,
   "metadata": {},
   "outputs": [],
   "source": [
    "early_stop = EarlyStopping(monitor='val_loss', patience=10, restore_best_weights=True)\n",
    "my_callbacks = [early_stop]\n",
    "\n",
    "history = cnn_deeper_224.fit(train_ds_224, batch_size=32, epochs=30, validation_data=val_ds_224, callbacks=my_callbacks)"
   ]
  },
  {
   "cell_type": "code",
   "execution_count": null,
   "metadata": {},
   "outputs": [],
   "source": [
    "plot_accuracy_loss_subplt(history, \"224x224 CNN Deep\", f\"{PLOT_PATH}/cnn_deep_224.jpg\", (10, 3))"
   ]
  },
  {
   "cell_type": "markdown",
   "metadata": {},
   "source": [
    "<img src=./data/plotsFinal/cnn_deep_224.jpg>"
   ]
  },
  {
   "cell_type": "code",
   "execution_count": null,
   "metadata": {},
   "outputs": [],
   "source": [
    "cnn_deeper_224.save(f\"{MODELS_PATH}/cnn_deeper_224.keras\")"
   ]
  },
  {
   "cell_type": "markdown",
   "metadata": {},
   "source": [
    "Regularization"
   ]
  },
  {
   "cell_type": "code",
   "execution_count": null,
   "metadata": {},
   "outputs": [],
   "source": [
    "cnn_deeper_reg_224 = Sequential(name=\"Deeper_CNN_64_Normalized\")\n",
    "cnn_deeper_reg_224.add(Input(shape=(224, 224, 3)))\n",
    "cnn_deeper_reg_224.add(Rescaling(1./255))\n",
    "cnn_deeper_reg_224.add(augmentation_layers)\n",
    "\n",
    "# CNN\n",
    "cnn_deeper_reg_224.add(Conv2D(filters=64, kernel_size=3, padding=\"same\", activation=\"relu\"))\n",
    "cnn_deeper_reg_224.add(Conv2D(filters=64, kernel_size=3, padding=\"same\", activation=\"relu\"))\n",
    "cnn_deeper_reg_224.add(MaxPooling2D(2))\n",
    "\n",
    "cnn_deeper_reg_224.add(Conv2D(filters=32, kernel_size=3, padding=\"same\", activation=\"relu\"))\n",
    "cnn_deeper_reg_224.add(Conv2D(filters=32, kernel_size=3, padding=\"same\", activation=\"relu\"))\n",
    "cnn_deeper_reg_224.add(MaxPooling2D(2))\n",
    "\n",
    "cnn_deeper_reg_224.add(Conv2D(filters=16, kernel_size=3, padding=\"same\", activation=\"relu\"))\n",
    "cnn_deeper_reg_224.add(MaxPooling2D(2))\n",
    "\n",
    "# DNN\n",
    "cnn_deeper_reg_224.add(Flatten())\n",
    "cnn_deeper_reg_224.add(Dense(units=128, activation=\"relu\"))\n",
    "cnn_deeper_reg_224.add(Dropout(0.25))\n",
    "cnn_deeper_reg_224.add(Dense(units=64, activation=\"relu\"))\n",
    "cnn_deeper_reg_224.add(Dropout(0.25))\n",
    "cnn_deeper_reg_224.add(Dense(units=6, activation=\"softmax\"))\n",
    "cnn_deeper_reg_224.compile(optimizer=RMSprop(learning_rate=0.001), loss=\"categorical_crossentropy\", metrics=['accuracy'])\n",
    "cnn_deeper_reg_224.summary()"
   ]
  },
  {
   "cell_type": "code",
   "execution_count": null,
   "metadata": {},
   "outputs": [],
   "source": [
    "early_stop = EarlyStopping(monitor='val_loss', patience=10, restore_best_weights=True)\n",
    "my_callbacks = [early_stop]\n",
    "\n",
    "history = cnn_deeper_reg_224.fit(train_ds_224, batch_size=32, epochs=30, validation_data=val_ds_224, callbacks=my_callbacks)"
   ]
  },
  {
   "cell_type": "code",
   "execution_count": null,
   "metadata": {},
   "outputs": [],
   "source": [
    "plot_accuracy_loss_subplt(history, \"224x224 CNN Deep Reg\", f\"{PLOT_PATH}/cnn_deep_reg_224.jpg\", (10, 3))"
   ]
  },
  {
   "cell_type": "markdown",
   "metadata": {},
   "source": [
    "<img src=./data/plotsFinal/cnn_deep_reg_224.jpg>"
   ]
  },
  {
   "cell_type": "code",
   "execution_count": null,
   "metadata": {},
   "outputs": [],
   "source": [
    "cnn_deeper_reg_224.save(f\"{MODELS_PATH}/cnn_deeper_reg_224.keras\")"
   ]
  },
  {
   "cell_type": "markdown",
   "metadata": {},
   "source": [
    "### Transfer Learning VGG16\n",
    "Transfer learning refers to taking advantage of previously trained models that proved successfult for a similar task and fine tuning them using the data.\n",
    "For this we will only use 224x224 data as it is the standard for models such as VGG16, ResNet, DenseNet201 etc."
   ]
  },
  {
   "cell_type": "code",
   "execution_count": null,
   "metadata": {},
   "outputs": [],
   "source": [
    "input_layer = Input(shape=(224,224,3))\n",
    "rescaling = Rescaling(1./255)(input_layer)"
   ]
  },
  {
   "cell_type": "code",
   "execution_count": null,
   "metadata": {},
   "outputs": [],
   "source": [
    "trained_vgg = VGG16(weights=\"imagenet\", include_top=False, input_tensor=rescaling)\n",
    "trained_vgg.trainable = False\n",
    "trained_vgg.summary()"
   ]
  },
  {
   "cell_type": "code",
   "execution_count": null,
   "metadata": {},
   "outputs": [],
   "source": [
    "# include the dense neural network at the end\n",
    "complete_model_vgg = Sequential()\n",
    "complete_model_vgg.add(trained_vgg)\n",
    "complete_model_vgg.add(Flatten())\n",
    "complete_model_vgg.add(Dense(units=40, activation=\"relu\"))\n",
    "complete_model_vgg.add(Dense(units=20, activation=\"relu\"))\n",
    "complete_model_vgg.add(Dense(units=6, activation=\"softmax\"))\n",
    "\n",
    "complete_model_vgg.compile(optimizer=Adam(), loss='categorical_crossentropy', metrics=['accuracy'])\n",
    "complete_model_vgg.summary()"
   ]
  },
  {
   "cell_type": "code",
   "execution_count": null,
   "metadata": {},
   "outputs": [],
   "source": [
    "history = complete_model_vgg.fit(x=train_ds_224, validation_data=val_ds_224, epochs=30)"
   ]
  },
  {
   "cell_type": "code",
   "execution_count": null,
   "metadata": {},
   "outputs": [],
   "source": [
    "plot_accuracy_loss_subplt(history, \"224x224 VGG\", f\"{PLOT_PATH}/vgg_tf_224.jpg\", (10, 3))"
   ]
  },
  {
   "cell_type": "markdown",
   "metadata": {},
   "source": [
    "<img src=./data/plotsFinal/vgg_tf_224.jpg>"
   ]
  },
  {
   "cell_type": "markdown",
   "metadata": {},
   "source": [
    "Regularization"
   ]
  },
  {
   "cell_type": "code",
   "execution_count": null,
   "metadata": {},
   "outputs": [],
   "source": [
    "complete_model__vgg_reg = Sequential()\n",
    "complete_model__vgg_reg.add(augmentation_layers)\n",
    "complete_model__vgg_reg.add(trained_vgg)\n",
    "complete_model__vgg_reg.add(Flatten())\n",
    "complete_model__vgg_reg.add(Dense(units=40, activation=\"relu\"))\n",
    "complete_model__vgg_reg.add(Dropout(0.05))\n",
    "complete_model__vgg_reg.add(Dense(units=20, activation=\"relu\"))\n",
    "complete_model__vgg_reg.add(Dense(units=6, activation=\"softmax\"))\n",
    "\n",
    "complete_model__vgg_reg.compile(optimizer=Adam(), loss='categorical_crossentropy', metrics=['accuracy'])"
   ]
  },
  {
   "cell_type": "code",
   "execution_count": null,
   "metadata": {},
   "outputs": [],
   "source": [
    "early_stop = EarlyStopping(monitor='val_loss', patience=5, restore_best_weights=True)\n",
    "my_callbacks = [early_stop]\n",
    "\n",
    "history = complete_model__vgg_reg.fit(x=train_ds_224, validation_data=val_ds_224, epochs=40)"
   ]
  },
  {
   "cell_type": "code",
   "execution_count": null,
   "metadata": {},
   "outputs": [],
   "source": [
    "plot_accuracy_loss_subplt(history, \"224x224 VGG\", f\"{PLOT_PATH}/vgg_tf_reg_224.jpg\", (10, 3))"
   ]
  },
  {
   "cell_type": "markdown",
   "metadata": {},
   "source": [
    "<img src=./data/plotsFinal/vgg_tf_reg_224.jpg>"
   ]
  },
  {
   "cell_type": "code",
   "execution_count": null,
   "metadata": {},
   "outputs": [],
   "source": [
    "complete_model__vgg_reg.save(f\"{MODELS_PATH}/vgg_tf_reg_224.keras\")"
   ]
  },
  {
   "cell_type": "markdown",
   "metadata": {},
   "source": [
    "### Transfer Learning DenseNet201"
   ]
  },
  {
   "cell_type": "code",
   "execution_count": null,
   "metadata": {},
   "outputs": [],
   "source": [
    "trained_densenet = DenseNet201(weights=\"imagenet\", include_top=False, input_tensor=rescaling)\n",
    "trained_densenet.trainable = False"
   ]
  },
  {
   "cell_type": "code",
   "execution_count": null,
   "metadata": {},
   "outputs": [],
   "source": [
    "complete_model_densenet = Sequential()\n",
    "complete_model_densenet.add(trained_densenet)\n",
    "complete_model_densenet.add(Flatten())\n",
    "complete_model_densenet.add(Dense(units=40, activation=\"relu\"))\n",
    "complete_model_densenet.add(Dense(units=20, activation=\"relu\"))\n",
    "complete_model_densenet.add(Dense(units=6, activation=\"softmax\"))\n",
    "\n",
    "complete_model_densenet.compile(optimizer=Adam(), loss='categorical_crossentropy', metrics=['accuracy'])\n",
    "complete_model_densenet.summary()"
   ]
  },
  {
   "cell_type": "code",
   "execution_count": null,
   "metadata": {},
   "outputs": [],
   "source": [
    "early_stop = EarlyStopping(monitor='val_loss', patience=5, restore_best_weights=True)\n",
    "my_callbacks = [early_stop]\n",
    "\n",
    "history = complete_model_densenet.fit(x=train_ds_224, validation_data=val_ds_224, epochs=40)"
   ]
  },
  {
   "cell_type": "code",
   "execution_count": null,
   "metadata": {},
   "outputs": [],
   "source": [
    "plot_accuracy_loss_subplt(history, \"224x224 DN\", f\"{PLOT_PATH}/dn_tf_224.jpg\", (10, 3))"
   ]
  },
  {
   "cell_type": "code",
   "execution_count": null,
   "metadata": {},
   "outputs": [],
   "source": [
    "complete_model_densenet.save(f\"{MODELS_PATH}/dn_tf_224.keras\")"
   ]
  },
  {
   "cell_type": "markdown",
   "metadata": {},
   "source": [
    "# Evaluation\n",
    "For evaluating each network we run the evaluate method on the test set (which was partitioned at the beginning, and was not used at all until now)."
   ]
  },
  {
   "cell_type": "code",
   "execution_count": null,
   "metadata": {},
   "outputs": [],
   "source": [
    "simple_224_model = load_model(f\"{MODELS_PATH}/cnn_simple_224.keras\")\n",
    "test_loss, test_accuracy = simple_224_model.evaluate(test_ds_224, verbose=2)\n",
    "print('\\nSimple Test accuracy: ', test_accuracy)"
   ]
  },
  {
   "cell_type": "code",
   "execution_count": null,
   "metadata": {},
   "outputs": [],
   "source": [
    "simple_reg_224_model = load_model(f\"{MODELS_PATH}/cnn_simple_reg_224.keras\")\n",
    "test_loss, test_accuracy = simple_reg_224_model.evaluate(test_ds_224, verbose=2)\n",
    "print('\\nSimple Reg Test accuracy: ', test_accuracy)"
   ]
  },
  {
   "cell_type": "code",
   "execution_count": null,
   "metadata": {},
   "outputs": [],
   "source": [
    "deeper_244_model = load_model(f\"{MODELS_PATH}/cnn_deeper_224.keras\")\n",
    "test_loss, test_accuracy = deeper_244_model.evaluate(test_ds_224, verbose=2)\n",
    "print('\\nDeeper Test accuracy: ', test_accuracy)"
   ]
  },
  {
   "cell_type": "code",
   "execution_count": null,
   "metadata": {},
   "outputs": [],
   "source": [
    "deeper_reg_244_model = load_model(f\"{MODELS_PATH}/cnn_deeper_reg_224.keras\")\n",
    "test_loss, test_accuracy = deeper_reg_244_model.evaluate(test_ds_224, verbose=2)\n",
    "print('\\nDeeper Test Reg accuracy: ', test_accuracy)"
   ]
  },
  {
   "cell_type": "code",
   "execution_count": null,
   "metadata": {},
   "outputs": [],
   "source": [
    "vgg_reg_model = load_model(f\"{MODELS_PATH}/vgg_tf_reg_224.keras\")\n",
    "test_loss, test_accuracy = vgg_reg_model.evaluate(test_ds_224, verbose=2)\n",
    "print('\\nDeeper Test accuracy: ', test_accuracy)"
   ]
  },
  {
   "cell_type": "code",
   "execution_count": null,
   "metadata": {},
   "outputs": [],
   "source": [
    "dnet_model = load_model(f\"{MODELS_PATH}/dn_tf_224.keras\")\n",
    "test_loss, test_accuracy = dnet_model.evaluate(test_ds_224, verbose=2)\n",
    "print('\\nDeeper Test accuracy: ', test_accuracy)"
   ]
  },
  {
   "cell_type": "markdown",
   "metadata": {},
   "source": [
    "|Network Architecture|Hidden test set accuracy|\n",
    "|-|-|\n",
    "|Simple CNN 224|26.39%|\n",
    "|Simple CNN Regularized|35.55%|\n",
    "|Deeper CNN|34.36%|\n",
    "|Deeper CNN Regularized|34.78%|\n",
    "|VGG Regularized|39.28%|\n",
    "|DenseNet|TBD - 30% approx on validation during training|"
   ]
  },
  {
   "cell_type": "markdown",
   "metadata": {},
   "source": [
    "### Custom images evaluation pipeline"
   ]
  },
  {
   "cell_type": "code",
   "execution_count": 87,
   "metadata": {},
   "outputs": [],
   "source": [
    "image = cv.imread(f'./data/1.JPG')\n",
    "image_rgb = cv.cvtColor(image, cv.COLOR_BGR2RGB)\n",
    "image_rgb_resized = cv.resize(image_rgb, (224,224), cv.INTER_NEAREST)\n",
    "input_tensor = np.expand_dims(image_rgb_resized, axis=0)"
   ]
  },
  {
   "cell_type": "code",
   "execution_count": 88,
   "metadata": {},
   "outputs": [
    {
     "ename": "NameError",
     "evalue": "name 'vgg_reg_model' is not defined",
     "output_type": "error",
     "traceback": [
      "\u001b[1;31m---------------------------------------------------------------------------\u001b[0m",
      "\u001b[1;31mNameError\u001b[0m                                 Traceback (most recent call last)",
      "Cell \u001b[1;32mIn[88], line 1\u001b[0m\n\u001b[1;32m----> 1\u001b[0m \u001b[43mvgg_reg_model\u001b[49m(input_tensor)\n",
      "\u001b[1;31mNameError\u001b[0m: name 'vgg_reg_model' is not defined"
     ]
    }
   ],
   "source": [
    "vgg_reg_model(input_tensor)"
   ]
  }
 ],
 "metadata": {
  "kernelspec": {
   "display_name": "env_si",
   "language": "python",
   "name": "python3"
  },
  "language_info": {
   "codemirror_mode": {
    "name": "ipython",
    "version": 3
   },
   "file_extension": ".py",
   "mimetype": "text/x-python",
   "name": "python",
   "nbconvert_exporter": "python",
   "pygments_lexer": "ipython3",
   "version": "3.12.0"
  }
 },
 "nbformat": 4,
 "nbformat_minor": 2
}
